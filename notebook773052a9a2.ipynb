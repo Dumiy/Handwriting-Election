{
 "cells": [
  {
   "cell_type": "code",
   "execution_count": 1,
   "metadata": {
    "_cell_guid": "b1076dfc-b9ad-4769-8c92-a6c4dae69d19",
    "_uuid": "8f2839f25d086af736a60e9eeb907d3b93b6e0e5"
   },
   "outputs": [],
   "source": [
    "# This Python 3 environment comes with many helpful analytics libraries installed\n",
    "# It is defined by the kaggle/python Docker image: https://github.com/kaggle/docker-python\n",
    "# For example, here's several helpful packages to load\n",
    "\n",
    "import numpy as np # linear algebra\n",
    "import pandas as pd # data processing, CSV file I/O (e.g. pd.read_csv)\n",
    "import matplotlib.pyplot as plt\n",
    "from PIL import Image, ImageChops\n",
    "# Input data files are available in the read-only \"../input/\" directory\n",
    "# For example, running this (by clicking run or pressing Shift+Enter) will list all files under the input directory\n",
    "\n",
    "import os\n",
    "for dirname, _, filenames in os.walk('/kaggle/input'):\n",
    "    for filename in filenames:\n",
    "        print(os.path.join(dirname, filename))\n",
    "\n",
    "# You can write up to 5GB to the current directory (/kaggle/working/) that gets preserved as output when you create a version using \"Save & Run All\" \n",
    "# You can also write temporary files to /kaggle/temp/, but they won't be saved outside of the current session"
   ]
  },
  {
   "cell_type": "code",
   "execution_count": 2,
   "metadata": {},
   "outputs": [
    {
     "data": {
      "application/javascript": [
       "IPython.notebook.set_autosave_interval(100000)"
      ]
     },
     "metadata": {},
     "output_type": "display_data"
    },
    {
     "name": "stdout",
     "output_type": "stream",
     "text": [
      "Autosaving every 100 seconds\n"
     ]
    }
   ],
   "source": [
    "%autosave 100"
   ]
  },
  {
   "cell_type": "code",
   "execution_count": 3,
   "metadata": {},
   "outputs": [],
   "source": [
    "\"\"\"\n",
    "@file morph_lines_detection.py\n",
    "@brief Use morphology transformations for extracting horizontal and vertical lines sample code\n",
    "\"\"\"\n",
    "import numpy as np\n",
    "import sys\n",
    "import cv2 as cv\n",
    "def show_wait_destroy(winname, img):\n",
    "    cv.imshow(winname, img)\n",
    "    cv.moveWindow(winname, 500, 0)\n",
    "    cv.waitKey(0)\n",
    "    cv.destroyWindow(winname)\n",
    "def preprocess(image):\n",
    "    # Load the image\n",
    "    src = image\n",
    "    # Check if image is loaded fine\n",
    "    if src is None:\n",
    "        print ('Error opening image: ' + argv[0])\n",
    "        return -1\n",
    "    # Show source image\n",
    "    # [load_image]\n",
    "    # [gray]\n",
    "    # Transform source image to gray if it is not already\n",
    "    if len(src.shape) != 2:\n",
    "        gray = cv.cvtColor(src, cv.COLOR_BGR2GRAY)\n",
    "    else:\n",
    "        gray = src\n",
    "    # Show gray image\n",
    "    #show_wait_destroy(\"gray\", gray)\n",
    "    # [gray]\n",
    "    # [bin]\n",
    "    # Apply adaptiveThreshold at the bitwise_not of gray, notice the ~ symbol\n",
    "    gray = cv.bitwise_not(gray)\n",
    "    bw = cv.adaptiveThreshold(gray, 255, cv.ADAPTIVE_THRESH_MEAN_C, \\\n",
    "                                cv.THRESH_BINARY, 15, -2)\n",
    "    # Show binary image\n",
    "    #plt.imshow()\n",
    "    # [bin]\n",
    "    # [init]\n",
    "    # Create the images that will use to extract the horizontal and vertical lines\n",
    "    horizontal = np.copy(bw)\n",
    "    vertical = np.copy(bw)\n",
    "    # [init]\n",
    "    # [horiz]\n",
    "    # Specify size on horizontal axis\n",
    "    cols = horizontal.shape[1]\n",
    "    horizontal_size = cols // 30\n",
    "    # Create structure element for extracting horizontal lines through morphology operations\n",
    "    horizontalStructure = cv.getStructuringElement(cv.MORPH_RECT, (horizontal_size, 15))\n",
    "    # Apply morphology operations\n",
    "    #horizontal = cv.erode(horizontal, horizontalStructure)\n",
    "    horizontal = cv.dilate(horizontal, horizontalStructure)\n",
    "    # Show extracted horizontal lines\n",
    "    #show_wait_destroy(\"horizontal\", horizontal)\n",
    "    # [horiz]\n",
    "    # [vert]\n",
    "    # Specify size on vertical axis\n",
    "    rows = vertical.shape[0]\n",
    "    verticalsize = rows // 30\n",
    "    # Create structure element for extracting vertical lines through morphology operations\n",
    "    verticalStructure = cv.getStructuringElement(cv.MORPH_RECT, (1, verticalsize))\n",
    "    # Apply morphology operations\n",
    "    #vertical = cv.erode(vertical, verticalStructure)\n",
    "    vertical = cv.dilate(vertical, verticalStructure)\n",
    "    vertical = cv.dilate(vertical, verticalStructure)\n",
    "    # Show extracted vertical lines\n",
    "    #show_wait_destroy(\"vertical\", vertical)\n",
    "    # [smooth]\n",
    "    \n",
    "    # Step 1\n",
    "    edges = cv.adaptiveThreshold(vertical, 255, cv.ADAPTIVE_THRESH_MEAN_C, \\\n",
    "                                cv.THRESH_BINARY, 3, -2)\n",
    "    #show_wait_destroy(\"edges\", edges)\n",
    "    # Step 2\n",
    "    kernel = np.ones((2, 2), np.uint8)\n",
    "    edges = cv.dilate(edges, kernel)\n",
    "    #show_wait_destroy(\"dilate\", edges)\n",
    "    # Step 3\n",
    "    smooth = np.copy(vertical)\n",
    "    # Step 4\n",
    "    smooth = cv.blur(smooth, (2, 2))\n",
    "    # Step 5\n",
    "    (rows, cols) = np.where(edges != 0)\n",
    "    vertical[rows, cols] = smooth[rows, cols]\n",
    "    # Show final result\n",
    "    return vertical\n",
    "    # [smooth]"
   ]
  },
  {
   "cell_type": "code",
   "execution_count": 4,
   "metadata": {},
   "outputs": [],
   "source": [
    "def preprocess_show(image):\n",
    "    # Load the image\n",
    "    src = image\n",
    "    # Check if image is loaded fine\n",
    "    if src is None:\n",
    "        print ('Error opening image: ' + argv[0])\n",
    "        return -1\n",
    "    # Show source image\n",
    "    # [load_image]\n",
    "    # [gray]\n",
    "    # Transform source image to gray if it is not already\n",
    "    if len(src.shape) != 2:\n",
    "        gray = cv.cvtColor(src, cv.COLOR_BGR2GRAY)\n",
    "    else:\n",
    "        gray = src\n",
    "    # Show gray image\n",
    "    #show_wait_destroy(\"gray\", gray)\n",
    "    # [gray]\n",
    "    # [bin]\n",
    "    # Apply adaptiveThreshold at the bitwise_not of gray, notice the ~ symbol\n",
    "    gray = cv.bitwise_not(gray)\n",
    "    bw = cv.adaptiveThreshold(gray, 255, cv.ADAPTIVE_THRESH_MEAN_C, \\\n",
    "                                cv.THRESH_BINARY, 15, -2)\n",
    "    print(\"Adaptive Threshold\")\n",
    "    plt.imshow(bw)\n",
    "    plt.show()\n",
    "    # Show binary image\n",
    "    #plt.imshow()\n",
    "    # [bin]\n",
    "    # [init]\n",
    "    # Create the images that will use to extract the horizontal and vertical lines\n",
    "    horizontal = np.copy(bw)\n",
    "    vertical = np.copy(bw)\n",
    "    # [init]\n",
    "    # [horiz]\n",
    "    # Specify size on horizontal axis\n",
    "    cols = horizontal.shape[1]\n",
    "    horizontal_size = cols // 30\n",
    "    # Create structure element for extracting horizontal lines through morphology operations\n",
    "    horizontalStructure = cv.getStructuringElement(cv.MORPH_RECT, (horizontal_size, 15))\n",
    "    # Apply morphology operations\n",
    "    #horizontal = cv.erode(horizontal, horizontalStructure)\n",
    "    horizontal = cv.dilate(horizontal, horizontalStructure)\n",
    "    print(\"Horizontal structure element and dilate\")\n",
    "    plt.imshow(horizontal)\n",
    "    plt.show()\n",
    "    # Show extracted horizontal lines\n",
    "    #show_wait_destroy(\"horizontal\", horizontal)\n",
    "    # [horiz]\n",
    "    # [vert]\n",
    "    # Specify size on vertical axis\n",
    "    rows = vertical.shape[0]\n",
    "    verticalsize = rows // 30\n",
    "    # Create structure element for extracting vertical lines through morphology operations\n",
    "    verticalStructure = cv.getStructuringElement(cv.MORPH_RECT, (1, verticalsize))\n",
    "    # Apply morphology operations\n",
    "    #vertical = cv.erode(vertical, verticalStructure)\n",
    "    vertical = cv.dilate(vertical, verticalStructure)\n",
    "    vertical = cv.dilate(vertical, verticalStructure)\n",
    "    # Show extracted vertical lines\n",
    "    #show_wait_destroy(\"vertical\", vertical)\n",
    "    # [smooth]\n",
    "    print(\"Vertical structure element and double dilate\")\n",
    "    plt.imshow(vertical)\n",
    "    # Step 1\n",
    "    plt.show()\n",
    "    edges = cv.adaptiveThreshold(vertical, 255, cv.ADAPTIVE_THRESH_MEAN_C, \\\n",
    "                                cv.THRESH_BINARY, 3, -2)\n",
    "    #show_wait_destroy(\"edges\", edges)\n",
    "    # Step 2\n",
    "    kernel = np.ones((2, 2), np.uint8)\n",
    "    edges = cv.dilate(edges, kernel)\n",
    "    #show_wait_destroy(\"dilate\", edges)\n",
    "    # Step 3\n",
    "    smooth = np.copy(vertical)\n",
    "    # Step 4\n",
    "    smooth = cv.blur(smooth, (2, 2))\n",
    "    # Step 5\n",
    "    (rows, cols) = np.where(edges != 0)\n",
    "    vertical[rows, cols] = smooth[rows, cols]\n",
    "    # Show final result\n",
    "    print(\"Smooth version\")\n",
    "    plt.imshow(vertical)\n",
    "    plt.show()\n",
    "    #return vertical\n",
    "    # [smooth]"
   ]
  },
  {
   "cell_type": "code",
   "execution_count": 5,
   "metadata": {
    "_cell_guid": "79c7e3d0-c299-4dcb-8224-4455121ee9b0",
    "_uuid": "d629ff2d2480ee46fbb7e2d37f6b5fab8052498a"
   },
   "outputs": [],
   "source": [
    "import cv2 as cv\n",
    "import pandas as pd\n",
    "import numpy as np\n",
    "input_images  = \"./train/train/\"\n",
    "test_images = \"./test/real\""
   ]
  },
  {
   "cell_type": "code",
   "execution_count": 6,
   "metadata": {},
   "outputs": [],
   "source": [
    "import os"
   ]
  },
  {
   "cell_type": "code",
   "execution_count": 7,
   "metadata": {},
   "outputs": [],
   "source": [
    "train_csv = pd.read_csv(\"./train.csv\")"
   ]
  },
  {
   "cell_type": "code",
   "execution_count": 8,
   "metadata": {},
   "outputs": [],
   "source": [
    "image = cv.imread(input_images+train_csv['Id'][0])"
   ]
  },
  {
   "cell_type": "code",
   "execution_count": 9,
   "metadata": {},
   "outputs": [
    {
     "data": {
      "text/plain": [
       "<matplotlib.image.AxesImage at 0x1e6b535b188>"
      ]
     },
     "execution_count": 9,
     "metadata": {},
     "output_type": "execute_result"
    },
    {
     "data": {
      "image/png": "[encoded data removed]",
      "text/plain": [
       "<Figure size 432x288 with 1 Axes>"
      ]
     },
     "metadata": {
      "needs_background": "light"
     },
     "output_type": "display_data"
    }
   ],
   "source": [
    "plt.imshow(image)"
   ]
  },
  {
   "cell_type": "code",
   "execution_count": 10,
   "metadata": {},
   "outputs": [
    {
     "name": "stdout",
     "output_type": "stream",
     "text": [
      "original fara denoising\n"
     ]
    },
    {
     "data": {
      "image/png": "[encoded data removed]",
      "text/plain": [
       "<Figure size 432x288 with 1 Axes>"
      ]
     },
     "metadata": {
      "needs_background": "light"
     },
     "output_type": "display_data"
    },
    {
     "name": "stdout",
     "output_type": "stream",
     "text": [
      "Adaptive Threshold\n"
     ]
    },
    {
     "data": {
      "image/png": "[encoded data removed]",
      "text/plain": [
       "<Figure size 432x288 with 1 Axes>"
      ]
     },
     "metadata": {
      "needs_background": "light"
     },
     "output_type": "display_data"
    },
    {
     "name": "stdout",
     "output_type": "stream",
     "text": [
      "Horizontal structure element and dilate\n"
     ]
    },
    {
     "data": {
      "image/png": "[encoded data removed]",
      "text/plain": [
       "<Figure size 432x288 with 1 Axes>"
      ]
     },
     "metadata": {
      "needs_background": "light"
     },
     "output_type": "display_data"
    },
    {
     "name": "stdout",
     "output_type": "stream",
     "text": [
      "Vertical structure element and double dilate\n"
     ]
    },
    {
     "data": {
      "image/png": "[encoded data removed]",
      "text/plain": [
       "<Figure size 432x288 with 1 Axes>"
      ]
     },
     "metadata": {
      "needs_background": "light"
     },
     "output_type": "display_data"
    },
    {
     "name": "stdout",
     "output_type": "stream",
     "text": [
      "Smooth version\n"
     ]
    },
    {
     "data": {
      "image/png": "[encoded data removed]",
      "text/plain": [
       "<Figure size 432x288 with 1 Axes>"
      ]
     },
     "metadata": {
      "needs_background": "light"
     },
     "output_type": "display_data"
    }
   ],
   "source": [
    "print(\"original fara denoising\")\n",
    "plt.imshow(image)\n",
    "plt.show()\n",
    "\n",
    "preprocess_show(image)"
   ]
  },
  {
   "cell_type": "code",
   "execution_count": 49,
   "metadata": {},
   "outputs": [
    {
     "name": "stdout",
     "output_type": "stream",
     "text": [
      "original cu denoising\n"
     ]
    },
    {
     "data": {
      "image/png": "[encoded data removed]",
      "text/plain": [
       "<Figure size 432x288 with 1 Axes>"
      ]
     },
     "metadata": {
      "needs_background": "light"
     },
     "output_type": "display_data"
    },
    {
     "name": "stdout",
     "output_type": "stream",
     "text": [
      "Adaptive Threshold\n"
     ]
    },
    {
     "data": {
      "image/png": "[encoded data removed]",
      "text/plain": [
       "<Figure size 432x288 with 1 Axes>"
      ]
     },
     "metadata": {
      "needs_background": "light"
     },
     "output_type": "display_data"
    },
    {
     "name": "stdout",
     "output_type": "stream",
     "text": [
      "Horizontal structure element and dilate\n"
     ]
    },
    {
     "data": {
      "image/png": "[encoded data removed]",
      "text/plain": [
       "<Figure size 432x288 with 1 Axes>"
      ]
     },
     "metadata": {
      "needs_background": "light"
     },
     "output_type": "display_data"
    },
    {
     "name": "stdout",
     "output_type": "stream",
     "text": [
      "Vertical structure element and double dilate\n"
     ]
    },
    {
     "data": {
      "image/png": "[encoded data removed]",
      "text/plain": [
       "<Figure size 432x288 with 1 Axes>"
      ]
     },
     "metadata": {
      "needs_background": "light"
     },
     "output_type": "display_data"
    },
    {
     "name": "stdout",
     "output_type": "stream",
     "text": [
      "Smooth version\n"
     ]
    },
    {
     "data": {
      "image/png": "[encoded data removed]",
      "text/plain": [
       "<Figure size 432x288 with 1 Axes>"
      ]
     },
     "metadata": {
      "needs_background": "light"
     },
     "output_type": "display_data"
    }
   ],
   "source": [
    "print(\"original cu denoising\")\n",
    "\n",
    "#preprocess_show(image)\n",
    "\n",
    "\n",
    "im = Image.open(input_images+train_csv['Id'][0]).convert('L')\n",
    "im = cv.fastNlMeansDenoising(np.array(im),None, 30, 7, 10)\n",
    "plt.imshow(im)\n",
    "plt.show()\n",
    "output = preprocess_show(im)\n"
   ]
  },
  {
   "cell_type": "code",
   "execution_count": 11,
   "metadata": {},
   "outputs": [],
   "source": [
    "from PIL import Image, ImageChops\n",
    "\n",
    "def trim_white(im):\n",
    "    im = Image.open(im).convert('L')\n",
    "    im = cv.fastNlMeansDenoising(np.array(im),None, 30, 7, 10)\n",
    "#     im = cv.medianBlur(np.asarray(im),5)\n",
    "#     im = cv.adaptiveThreshold(im,100,cv.ADAPTIVE_THRESH_GAUSSIAN_C,cv.THRESH_BINARY,11,5)\n",
    "    return im\n",
    "#     im = cv.fastNlMeansDenoising(im,None, 7, 7, 13)\n",
    "#     im \n",
    "#     im = Image.fromarray(im)\n",
    "#     bg = Image.new(im.mode, im.size, im.getpixel((0,0)))\n",
    "#     diff = ImageChops.difference(im, bg)\n",
    "#     diff = ImageChops.add(diff, diff, 2.0, -100)\n",
    "#     bbox = diff.getbbox()\n",
    "#     if bbox:\n",
    "#         return np.array(im.crop(bbox))\n",
    "#     else:\n",
    "#         return np.array(im)\n",
    "\n"
   ]
  },
  {
   "cell_type": "code",
   "execution_count": 12,
   "metadata": {},
   "outputs": [],
   "source": [
    "pure_images = []\n",
    "for x in train_csv['Id']:\n",
    "    img = cv.imread(input_images+x,cv.IMREAD_GRAYSCALE)\n",
    "    \n",
    "    #print(type(img))\n",
    "    pure_images.append(img)"
   ]
  },
  {
   "cell_type": "code",
   "execution_count": 13,
   "metadata": {},
   "outputs": [],
   "source": [
    "pure_images_train = []\n",
    "for x in sorted(os.listdir(test_images)):\n",
    "    img = cv.imread(test_images+x,cv.IMREAD_GRAYSCALE)\n",
    "    \n",
    "    #print(type(img))\n",
    "    pure_images_train.append(img)"
   ]
  },
  {
   "cell_type": "code",
   "execution_count": 14,
   "metadata": {},
   "outputs": [],
   "source": [
    "training_image = []\n",
    "for x in train_csv['Id']:\n",
    "    \n",
    "    img = trim_white(input_images+x)\n",
    "    img = preprocess(img)\n",
    "    #print(type(img))\n",
    "    training_image.append(img)"
   ]
  },
  {
   "cell_type": "code",
   "execution_count": 15,
   "metadata": {},
   "outputs": [],
   "source": [
    "test_image = []\n",
    "for x in os.listdir(test_images):\n",
    "    \n",
    "    img = trim_white(test_images+\"/\"+x)\n",
    "    img = preprocess(img)\n",
    "    #img = cv.Canny(img,100,200)\n",
    "    #print(type(img))\n",
    "    test_image.append(img)"
   ]
  },
  {
   "cell_type": "code",
   "execution_count": 16,
   "metadata": {},
   "outputs": [],
   "source": [
    "# for x in training_image:\n",
    "#     print(x.shape)"
   ]
  },
  {
   "cell_type": "code",
   "execution_count": 17,
   "metadata": {},
   "outputs": [
    {
     "data": {
      "text/plain": [
       "<matplotlib.image.AxesImage at 0x1e6bc86d4c8>"
      ]
     },
     "execution_count": 17,
     "metadata": {},
     "output_type": "execute_result"
    },
    {
     "data": {
      "image/png": "[encoded data removed]",
      "text/plain": [
       "<Figure size 432x288 with 1 Axes>"
      ]
     },
     "metadata": {
      "needs_background": "light"
     },
     "output_type": "display_data"
    }
   ],
   "source": [
    "plt.imshow(training_image[2],cmap='gray')"
   ]
  },
  {
   "cell_type": "markdown",
   "metadata": {},
   "source": [
    "### Pastram continutul imagini care ne intereseaza"
   ]
  },
  {
   "cell_type": "code",
   "execution_count": 18,
   "metadata": {},
   "outputs": [],
   "source": [
    "for i in range(0,len(test_image)):\n",
    "    if test_image[i].shape[0] > 90:\n",
    "        test_image[i] = test_image[i][:90,:]\n",
    "    if test_image[i].shape[1] > 270:\n",
    "         test_image[i] = test_image[i][:,:280]"
   ]
  },
  {
   "cell_type": "code",
   "execution_count": 19,
   "metadata": {},
   "outputs": [],
   "source": [
    "for i in range(0,len(training_image)):\n",
    "    if training_image[i].shape[0] > 90:\n",
    "        training_image[i] = training_image[i][:90,:]\n",
    "    if training_image[i].shape[1] > 270:\n",
    "         training_image[i] = training_image[i][:,:280]"
   ]
  },
  {
   "cell_type": "code",
   "execution_count": 22,
   "metadata": {},
   "outputs": [
    {
     "data": {
      "text/plain": [
       "<matplotlib.image.AxesImage at 0x1e6c18fbbc8>"
      ]
     },
     "execution_count": 22,
     "metadata": {},
     "output_type": "execute_result"
    },
    {
     "data": {
      "image/png": "[encoded data removed]",
      "text/plain": [
       "<Figure size 432x288 with 1 Axes>"
      ]
     },
     "metadata": {
      "needs_background": "light"
     },
     "output_type": "display_data"
    }
   ],
   "source": [
    "plt.imshow(training_image[1],cmap='gray')"
   ]
  },
  {
   "cell_type": "markdown",
   "metadata": {},
   "source": [
    "##### Resize continutul imagini pentru a avea aceleasi marimi "
   ]
  },
  {
   "cell_type": "code",
   "execution_count": 23,
   "metadata": {},
   "outputs": [],
   "source": [
    "for i in range(0,len(training_image)):\n",
    "    training_image[i] = cv.resize(training_image[i],(280,90))"
   ]
  },
  {
   "cell_type": "code",
   "execution_count": 24,
   "metadata": {},
   "outputs": [],
   "source": [
    "for i in range(0,len(test_image)):\n",
    "    test_image[i] = cv.resize(test_image[i],(280,90))"
   ]
  },
  {
   "cell_type": "code",
   "execution_count": 25,
   "metadata": {
    "scrolled": true
   },
   "outputs": [],
   "source": [
    "import matplotlib.pyplot as plt\n",
    "#labels = []\n",
    "test_data = []\n",
    "for x in test_image:\n",
    "        test_data.append(x[8:,10:75])\n",
    "        test_data.append(x[8:,75:140])\n",
    "        test_data.append(x[8:,135:205])\n",
    "        test_data.append(x[8:,200:270])\n",
    "#         if len(string_s) <4:\n",
    "#             print(0)\n",
    "#         else:\n",
    "#             print(string_s[0])\n",
    "\n",
    "\n",
    "## first patch x[20:,:90]\n",
    "## second patch x[10:,70:140]\n",
    "### third patch x[10:,130:200]\n",
    "#### fourth patch x[10:,200:270]"
   ]
  },
  {
   "cell_type": "code",
   "execution_count": 26,
   "metadata": {},
   "outputs": [],
   "source": [
    "import matplotlib.pyplot as plt\n",
    "labels = []\n",
    "train_data = []\n",
    "for x,y in zip(training_image,train_csv['label']):\n",
    "    string_s = str(y)\n",
    "    if len(string_s) == 4:\n",
    "        train_data.append(x[8:,10:75])\n",
    "        train_data.append(x[8:,75:140])\n",
    "        train_data.append(x[8:,135:205])\n",
    "        train_data.append(x[8:,200:270])\n",
    "        labels.append(int(string_s[0]))\n",
    "        labels.append(int(string_s[1]))\n",
    "        labels.append(int(string_s[2]))\n",
    "        labels.append(int(string_s[3]))\n",
    "    elif len(string_s) == 3:\n",
    "        train_data.append(x[8:,10:75])\n",
    "        train_data.append(x[8:,75:140])\n",
    "        train_data.append(x[8:,135:205])\n",
    "        train_data.append(x[8:,200:270])\n",
    "        labels.append(0)\n",
    "        labels.append(int(string_s[0]))\n",
    "        labels.append(int(string_s[1]))\n",
    "        labels.append(int(string_s[2]))\n",
    "    elif len(string_s) == 2:\n",
    "        train_data.append(x[8:,10:75])\n",
    "        train_data.append(x[8:,75:140])\n",
    "        train_data.append(x[8:,135:205])\n",
    "        train_data.append(x[8:,200:270])\n",
    "        labels.append(0)\n",
    "        labels.append(0)\n",
    "        labels.append(int(string_s[0]))\n",
    "        labels.append(int(string_s[1]))\n",
    "    elif len(string_s) == 1:\n",
    "        train_data.append(x[8:,10:75])\n",
    "        train_data.append(x[8:,75:140])\n",
    "        train_data.append(x[8:,135:205])\n",
    "        train_data.append(x[8:,200:270])\n",
    "        labels.append(0)\n",
    "        labels.append(0)\n",
    "        labels.append(0)\n",
    "        labels.append(int(string_s[0]))"
   ]
  },
  {
   "cell_type": "markdown",
   "metadata": {},
   "source": [
    "Cream patchuri de imagini care contin casute de numere si facem labeling in functie de numarul nostru, casutele negre simple si linile, sunt labeluite ca fiind 0, astfel invatam modelul sa spuna cand e o casuta goala,cu linie si daca contine cifra 0"
   ]
  },
  {
   "cell_type": "code",
   "execution_count": 27,
   "metadata": {
    "scrolled": true
   },
   "outputs": [],
   "source": [
    "plus = 1\n",
    "for i in range(1,len(train_data)):\n",
    "    if plus < len(train_data):\n",
    "        cv.imwrite(\"./data_set/\"+str(i)+\".jpg\",train_data[plus])\n",
    "        plus+=4\n",
    "    else:\n",
    "        break"
   ]
  },
  {
   "cell_type": "code",
   "execution_count": 29,
   "metadata": {},
   "outputs": [
    {
     "data": {
      "text/plain": [
       "<matplotlib.image.AxesImage at 0x1e6c1adb608>"
      ]
     },
     "execution_count": 29,
     "metadata": {},
     "output_type": "execute_result"
    },
    {
     "data": {
      "image/png": "[encoded data removed]",
      "text/plain": [
       "<Figure size 432x288 with 1 Axes>"
      ]
     },
     "metadata": {
      "needs_background": "light"
     },
     "output_type": "display_data"
    }
   ],
   "source": [
    "plt.imshow(cv.imread(\"./data_set/1.jpg\"))"
   ]
  },
  {
   "cell_type": "markdown",
   "metadata": {},
   "source": [
    "Aducem patchurile la acelasi size"
   ]
  },
  {
   "cell_type": "code",
   "execution_count": 33,
   "metadata": {},
   "outputs": [],
   "source": [
    "for i in range(0,len(test_data)):\n",
    "    test_data[i] = cv.resize(test_data[i],(100,100))"
   ]
  },
  {
   "cell_type": "code",
   "execution_count": 34,
   "metadata": {},
   "outputs": [],
   "source": [
    "for i in range(0,len(train_data)):\n",
    "    train_data[i] = cv.resize(train_data[i],(100,100))"
   ]
  },
  {
   "cell_type": "code",
   "execution_count": 35,
   "metadata": {},
   "outputs": [
    {
     "data": {
      "text/plain": [
       "8000"
      ]
     },
     "execution_count": 35,
     "metadata": {},
     "output_type": "execute_result"
    }
   ],
   "source": [
    "len(train_data)"
   ]
  },
  {
   "cell_type": "code",
   "execution_count": 36,
   "metadata": {},
   "outputs": [
    {
     "data": {
      "text/plain": [
       "8000"
      ]
     },
     "execution_count": 36,
     "metadata": {},
     "output_type": "execute_result"
    }
   ],
   "source": [
    "len(labels)"
   ]
  },
  {
   "cell_type": "code",
   "execution_count": 37,
   "metadata": {},
   "outputs": [],
   "source": [
    "import torch\n",
    "import torch.nn as nn\n",
    "import torch.optim as optim\n",
    "import torch.nn.functional as F\n",
    "import torchvision"
   ]
  },
  {
   "cell_type": "code",
   "execution_count": 38,
   "metadata": {},
   "outputs": [],
   "source": [
    "from torch.backends import cudnn\n",
    "n_epochs = 80\n",
    "batch_size_train = 64\n",
    "batch_size_test = 250\n",
    "learning_rate = 0.001\n",
    "momentum = 0.5\n",
    "log_interval = 10\n",
    "\n",
    "random_seed = 1\n",
    "torch.backends.cudnn.enabled = True\n",
    "torch.manual_seed(random_seed)\n",
    "\n",
    "torch.cuda.manual_seed(random_seed)\n",
    "cudnn.benchmark = True"
   ]
  },
  {
   "cell_type": "code",
   "execution_count": 39,
   "metadata": {},
   "outputs": [
    {
     "data": {
      "text/plain": [
       "[2, 9, 3, 1, 0, 0, 9, 6, 0, 0, 4, 1, 0, 8, 7]"
      ]
     },
     "execution_count": 39,
     "metadata": {},
     "output_type": "execute_result"
    }
   ],
   "source": [
    "labels[:15]"
   ]
  },
  {
   "cell_type": "code",
   "execution_count": 78,
   "metadata": {},
   "outputs": [],
   "source": [
    "class Net(nn.Module):\n",
    "    def __init__(self):\n",
    "        super(Net, self).__init__()\n",
    "        self.conv1 = nn.Conv2d(1, 60, kernel_size=3)\n",
    "        self.conv2 = nn.Conv2d(60, 128, kernel_size=3)\n",
    "        self.conv3 = nn.Conv2d(128, 256, kernel_size=3)\n",
    "        self.conv4 = nn.Conv2d(256, 300, kernel_size=3)\n",
    "        self.conv5 = nn.Conv2d(300, 528, kernel_size=3)\n",
    "        self.conv2_drop = nn.Dropout2d()\n",
    "        self.conv3_drop = nn.Dropout2d()\n",
    "        self.fc1 = nn.Linear(528, 1600)\n",
    "        self.fc2 = nn.Linear(1600, 900)\n",
    "        self.fc3 = nn.Linear(900, 450)\n",
    "        self.fc4 = nn.Linear(450, 10)\n",
    "\n",
    "    def forward(self, x):\n",
    "        #print(x.shape)\n",
    "        x = F.relu(F.max_pool2d(self.conv1(x), 2))\n",
    "        x = F.relu(F.max_pool2d(self.conv2(x), 2))\n",
    "        x = F.relu(F.max_pool2d(self.conv3(x), 2))\n",
    "        x = F.relu(F.max_pool2d(self.conv2_drop(self.conv4(x)), 2))\n",
    "        x = F.relu(F.max_pool2d(self.conv3_drop(self.conv5(x)), 2))\n",
    "        #print(x.shape)\n",
    "        x = x.view(-1,528)\n",
    "        x = F.relu(self.fc1(x))\n",
    "        x = F.dropout(x, training=self.training)\n",
    "        x = F.relu(self.fc2(x))\n",
    "        x = F.relu(self.fc3(x))\n",
    "        x = self.fc4(x)\n",
    "        #print(x.shape)\n",
    "        return F.log_softmax(x,dim=1)"
   ]
  },
  {
   "cell_type": "code",
   "execution_count": 79,
   "metadata": {},
   "outputs": [],
   "source": [
    "#network = Net().cuda()\n",
    "#network.load_state_dict(torch.load(\"./0629 loss.pth\"))"
   ]
  },
  {
   "cell_type": "code",
   "execution_count": 80,
   "metadata": {},
   "outputs": [],
   "source": [
    "from torch.utils.data import Dataset, DataLoader\n",
    "class HandWriting(Dataset):\n",
    "    def __init__(self, csv_file,labels, transform=None):\n",
    "        \n",
    "        self.images = np.array(csv_file)\n",
    "        print(self.images.shape)\n",
    "        self.labels = labels\n",
    "        self.transform = transform\n",
    "\n",
    "    def __len__(self):\n",
    "        return len(self.images)\n",
    "\n",
    "    def __getitem__(self, idx):\n",
    "        sample = self.images[idx]\n",
    "        label = self.labels[idx]\n",
    "        if self.transform:\n",
    "            sample = self.transform(sample)\n",
    "        return sample,label"
   ]
  },
  {
   "cell_type": "raw",
   "metadata": {},
   "source": [
    "Normalizam imaginile de antrenare la transformare"
   ]
  },
  {
   "cell_type": "code",
   "execution_count": 81,
   "metadata": {},
   "outputs": [
    {
     "name": "stdout",
     "output_type": "stream",
     "text": [
      "(6000, 100, 100)\n",
      "(2000, 100, 100)\n"
     ]
    }
   ],
   "source": [
    "train_loader = torch.utils.data.DataLoader(HandWriting(train_data[:6000],labels[:6000],\n",
    "                             transform=torchvision.transforms.Compose([\n",
    "                               torchvision.transforms.ToTensor(),\n",
    "                               torchvision.transforms.Normalize(\n",
    "                                 (0.1307,), (0.3081,))\n",
    "                             ],)),batch_size = batch_size_train, shuffle=True)\n",
    "\n",
    "test_loader = torch.utils.data.DataLoader(HandWriting(train_data[6000:],labels[6000:],\n",
    "                             transform=torchvision.transforms.Compose([\n",
    "                               torchvision.transforms.ToTensor(),\n",
    "                               torchvision.transforms.Normalize(\n",
    "                                 (0.1307,), (0.3081,))\n",
    "                             ])),\n",
    "  batch_size=batch_size_test, shuffle=True)"
   ]
  },
  {
   "cell_type": "code",
   "execution_count": 82,
   "metadata": {},
   "outputs": [
    {
     "name": "stdout",
     "output_type": "stream",
     "text": [
      "(8000, 100, 100)\n"
     ]
    }
   ],
   "source": [
    "total_loader = torch.utils.data.DataLoader(HandWriting(train_data,labels,\n",
    "                             transform=torchvision.transforms.Compose([\n",
    "                               torchvision.transforms.ToTensor(),\n",
    "                               torchvision.transforms.Normalize(\n",
    "                                 (0.1307,), (0.3081,))\n",
    "                             ])),batch_size = batch_size_train, shuffle=True)"
   ]
  },
  {
   "cell_type": "code",
   "execution_count": 83,
   "metadata": {},
   "outputs": [
    {
     "name": "stdout",
     "output_type": "stream",
     "text": [
      "(9996, 100, 100)\n"
     ]
    }
   ],
   "source": [
    "output_loader = torch.utils.data.DataLoader(HandWriting(test_data,test_data,\n",
    "                             transform=torchvision.transforms.Compose([\n",
    "                               torchvision.transforms.ToTensor(),\n",
    "                               torchvision.transforms.Normalize(\n",
    "                                 (0.1307,), (0.3081,))\n",
    "                             ])),batch_size = batch_size_train)"
   ]
  },
  {
   "cell_type": "code",
   "execution_count": 53,
   "metadata": {},
   "outputs": [],
   "source": [
    "train_loader_mnist = torch.utils.data.DataLoader(\n",
    "  torchvision.datasets.MNIST('/files/', train=True, download=True,\n",
    "                             transform=torchvision.transforms.Compose([torchvision.transforms.Resize((80,80)),\n",
    "                               torchvision.transforms.ToTensor(),\n",
    "                               torchvision.transforms.Normalize(\n",
    "                                 (0.1307,), (0.3081,))\n",
    "                             ])),\n",
    "  batch_size=batch_size_train, shuffle=True)\n",
    "\n",
    "test_loader_mnist = torch.utils.data.DataLoader(\n",
    "  torchvision.datasets.MNIST('/files/', train=False, download=True,\n",
    "                             transform=torchvision.transforms.Compose([torchvision.transforms.Resize((80,80)),\n",
    "                               torchvision.transforms.ToTensor(),\n",
    "                               torchvision.transforms.Normalize(\n",
    "                                 (0.1307,), (0.3081,))\n",
    "                             ])),\n",
    "  batch_size=batch_size_test, shuffle=True)"
   ]
  },
  {
   "cell_type": "code",
   "execution_count": 84,
   "metadata": {},
   "outputs": [],
   "source": [
    "examples = enumerate(test_loader)\n",
    "batch_idx, (example_data, example_targets) = next(examples)"
   ]
  },
  {
   "cell_type": "code",
   "execution_count": 85,
   "metadata": {},
   "outputs": [
    {
     "data": {
      "text/plain": [
       "torch.Size([250, 1, 100, 100])"
      ]
     },
     "execution_count": 85,
     "metadata": {},
     "output_type": "execute_result"
    }
   ],
   "source": [
    "example_data.shape"
   ]
  },
  {
   "cell_type": "code",
   "execution_count": 86,
   "metadata": {},
   "outputs": [
    {
     "data": {
      "image/png": "[encoded data removed]",
      "text/plain": [
       "<Figure size 432x288 with 6 Axes>"
      ]
     },
     "execution_count": 86,
     "metadata": {},
     "output_type": "execute_result"
    },
    {
     "data": {
      "image/png": "[encoded data removed]",
      "text/plain": [
       "<Figure size 432x288 with 6 Axes>"
      ]
     },
     "metadata": {},
     "output_type": "display_data"
    }
   ],
   "source": [
    "import matplotlib.pyplot as plt\n",
    "\n",
    "fig = plt.figure()\n",
    "for i in range(6):\n",
    "  plt.subplot(2,3,i+1)\n",
    "  plt.tight_layout()\n",
    "  plt.imshow(example_data[i][0], cmap='gray', interpolation='none')\n",
    "  plt.title(\"Ground Truth: {}\".format(example_targets[i]))\n",
    "  plt.xticks([])\n",
    "  plt.yticks([])\n",
    "fig"
   ]
  },
  {
   "cell_type": "code",
   "execution_count": 87,
   "metadata": {},
   "outputs": [],
   "source": [
    "train_losses = []\n",
    "train_counter = []\n",
    "test_losses = []\n",
    "test_counter = [i*len(train_loader.dataset) for i in range(n_epochs + 1)]"
   ]
  },
  {
   "cell_type": "code",
   "execution_count": 88,
   "metadata": {},
   "outputs": [],
   "source": [
    "def train(epoch):\n",
    "  network.train()\n",
    "  for batch_idx, (data, target) in enumerate(train_loader):\n",
    "    #print(data.shape)\n",
    "    optimizer.zero_grad()\n",
    "    output = network(data.cuda())\n",
    "    #print(output.shape)\n",
    "    #print(target)\n",
    "    loss = F.nll_loss(output, target.long().cuda())\n",
    "    loss.backward()\n",
    "    optimizer.step()\n",
    "    if batch_idx % log_interval == 0:\n",
    "      print('Train Epoch: {} [{}/{} ({:.0f}%)]\\tLoss: {:.6f}'.format(\n",
    "        epoch, batch_idx * len(data), len(train_loader.dataset),\n",
    "        100. * batch_idx / len(train_loader), loss.item()))\n",
    "      train_losses.append(loss.item())\n",
    "      train_counter.append(\n",
    "        (batch_idx*64) + ((epoch-1)*len(train_loader.dataset)))\n",
    "      torch.save(network.state_dict(), './results/model.pth')\n",
    "      torch.save(optimizer.state_dict(), './results/optimizer.pth')"
   ]
  },
  {
   "cell_type": "code",
   "execution_count": 89,
   "metadata": {},
   "outputs": [],
   "source": [
    "def total(epoch):\n",
    "  network.train()\n",
    "  for batch_idx, (data, target) in enumerate(total_loader):\n",
    "    \n",
    "    optimizer.zero_grad()\n",
    "    output = network(data.cuda())\n",
    "    loss = F.nll_loss(output, target.long().cuda())\n",
    "    loss.backward()\n",
    "    optimizer.step()\n",
    "    if batch_idx % log_interval == 0:\n",
    "      print('Train Epoch: {} [{}/{} ({:.0f}%)]\\tLoss: {:.6f}'.format(\n",
    "        epoch, batch_idx * len(data), len(total_loader.dataset),\n",
    "        100. * batch_idx / len(total_loader), loss.item()))\n",
    "      train_losses.append(loss.item())\n",
    "      train_counter.append(\n",
    "        (batch_idx*64) + ((epoch-1)*len(total_loader.dataset)))\n",
    "      torch.save(network.state_dict(), './results/model.pth')\n",
    "      torch.save(optimizer.state_dict(), './results/optimizer.pth')"
   ]
  },
  {
   "cell_type": "code",
   "execution_count": 90,
   "metadata": {},
   "outputs": [],
   "source": [
    "def test():\n",
    "  network.eval()\n",
    "  test_loss = 0\n",
    "  correct = 0\n",
    "  with torch.no_grad():\n",
    "    for data, target in test_loader:\n",
    "      ##print(data.shape)\n",
    "      output = network(data.cuda())\n",
    "      test_loss += F.nll_loss(output, target.long().cuda(), size_average=False).item()\n",
    "      pred = output.data.max(1, keepdim=True)[1]\n",
    "      correct += pred.eq(target.cuda().data.view_as(pred)).sum()\n",
    "  test_loss /= len(test_loader.dataset)\n",
    "  test_losses.append(test_loss)\n",
    "  print('\\nTest set: Avg. loss: {:.4f}, Accuracy: {}/{} ({:.0f}%)\\n'.format(\n",
    "    test_loss, correct, len(test_loader.dataset),\n",
    "    100. * correct / len(test_loader.dataset)))"
   ]
  },
  {
   "cell_type": "code",
   "execution_count": 91,
   "metadata": {
    "scrolled": true
   },
   "outputs": [
    {
     "name": "stdout",
     "output_type": "stream",
     "text": [
      "Train Epoch: 0 [0/8000 (0%)]\tLoss: 2.309709\n",
      "Train Epoch: 0 [640/8000 (8%)]\tLoss: 2.274329\n",
      "Train Epoch: 0 [1280/8000 (16%)]\tLoss: 2.142425\n",
      "Train Epoch: 0 [1920/8000 (24%)]\tLoss: 1.827223\n",
      "Train Epoch: 0 [2560/8000 (32%)]\tLoss: 1.905399\n",
      "Train Epoch: 0 [3200/8000 (40%)]\tLoss: 2.076851\n",
      "Train Epoch: 0 [3840/8000 (48%)]\tLoss: 1.855113\n",
      "Train Epoch: 0 [4480/8000 (56%)]\tLoss: 2.049754\n",
      "Train Epoch: 0 [5120/8000 (64%)]\tLoss: 1.786131\n",
      "Train Epoch: 0 [5760/8000 (72%)]\tLoss: 1.851299\n",
      "Train Epoch: 0 [6400/8000 (80%)]\tLoss: 1.686198\n",
      "Train Epoch: 0 [7040/8000 (88%)]\tLoss: 1.385238\n",
      "Train Epoch: 0 [7680/8000 (96%)]\tLoss: 1.826807\n"
     ]
    },
    {
     "name": "stderr",
     "output_type": "stream",
     "text": [
      "C:\\Users\\Dumi\\Anaconda3\\lib\\site-packages\\torch\\nn\\_reduction.py:43: UserWarning: size_average and reduce args will be deprecated, please use reduction='sum' instead.\n",
      "  warnings.warn(warning.format(ret))\n"
     ]
    },
    {
     "name": "stdout",
     "output_type": "stream",
     "text": [
      "\n",
      "Test set: Avg. loss: 1.3246, Accuracy: 1001/2000 (50%)\n",
      "\n",
      "Train Epoch: 1 [0/8000 (0%)]\tLoss: 1.499471\n",
      "Train Epoch: 1 [640/8000 (8%)]\tLoss: 1.308533\n"
     ]
    },
    {
     "ename": "KeyboardInterrupt",
     "evalue": "",
     "output_type": "error",
     "traceback": [
      "\u001b[1;31m---------------------------------------------------------------------------\u001b[0m",
      "\u001b[1;31mKeyboardInterrupt\u001b[0m                         Traceback (most recent call last)",
      "\u001b[1;32m<ipython-input-91-d8517159cca7>\u001b[0m in \u001b[0;36m<module>\u001b[1;34m\u001b[0m\n\u001b[0;32m      4\u001b[0m \u001b[0mstep\u001b[0m \u001b[1;33m=\u001b[0m \u001b[0moptim\u001b[0m\u001b[1;33m.\u001b[0m\u001b[0mlr_scheduler\u001b[0m\u001b[1;33m.\u001b[0m\u001b[0mMultiStepLR\u001b[0m\u001b[1;33m(\u001b[0m\u001b[0moptimizer\u001b[0m\u001b[1;33m,\u001b[0m \u001b[0mmilestones\u001b[0m\u001b[1;33m=\u001b[0m\u001b[1;33m[\u001b[0m\u001b[1;36m55\u001b[0m\u001b[1;33m,\u001b[0m\u001b[1;36m65\u001b[0m\u001b[1;33m]\u001b[0m\u001b[1;33m,\u001b[0m \u001b[0mgamma\u001b[0m\u001b[1;33m=\u001b[0m\u001b[1;36m0.1\u001b[0m\u001b[1;33m)\u001b[0m\u001b[1;33m\u001b[0m\u001b[1;33m\u001b[0m\u001b[0m\n\u001b[0;32m      5\u001b[0m \u001b[1;32mfor\u001b[0m \u001b[0mepoch\u001b[0m \u001b[1;32min\u001b[0m \u001b[0mrange\u001b[0m\u001b[1;33m(\u001b[0m\u001b[1;36m0\u001b[0m\u001b[1;33m,\u001b[0m \u001b[0mn_epochs\u001b[0m\u001b[1;33m)\u001b[0m\u001b[1;33m:\u001b[0m\u001b[1;33m\u001b[0m\u001b[1;33m\u001b[0m\u001b[0m\n\u001b[1;32m----> 6\u001b[1;33m     \u001b[0mtotal\u001b[0m\u001b[1;33m(\u001b[0m\u001b[0mepoch\u001b[0m\u001b[1;33m)\u001b[0m\u001b[1;33m\u001b[0m\u001b[1;33m\u001b[0m\u001b[0m\n\u001b[0m\u001b[0;32m      7\u001b[0m     \u001b[0mstep\u001b[0m\u001b[1;33m.\u001b[0m\u001b[0mstep\u001b[0m\u001b[1;33m(\u001b[0m\u001b[1;33m)\u001b[0m\u001b[1;33m\u001b[0m\u001b[1;33m\u001b[0m\u001b[0m\n\u001b[0;32m      8\u001b[0m     \u001b[0mtest\u001b[0m\u001b[1;33m(\u001b[0m\u001b[1;33m)\u001b[0m\u001b[1;33m\u001b[0m\u001b[1;33m\u001b[0m\u001b[0m\n",
      "\u001b[1;32m<ipython-input-89-4322ff24e507>\u001b[0m in \u001b[0;36mtotal\u001b[1;34m(epoch)\u001b[0m\n\u001b[0;32m      4\u001b[0m \u001b[1;33m\u001b[0m\u001b[0m\n\u001b[0;32m      5\u001b[0m     \u001b[0moptimizer\u001b[0m\u001b[1;33m.\u001b[0m\u001b[0mzero_grad\u001b[0m\u001b[1;33m(\u001b[0m\u001b[1;33m)\u001b[0m\u001b[1;33m\u001b[0m\u001b[1;33m\u001b[0m\u001b[0m\n\u001b[1;32m----> 6\u001b[1;33m     \u001b[0moutput\u001b[0m \u001b[1;33m=\u001b[0m \u001b[0mnetwork\u001b[0m\u001b[1;33m(\u001b[0m\u001b[0mdata\u001b[0m\u001b[1;33m.\u001b[0m\u001b[0mcuda\u001b[0m\u001b[1;33m(\u001b[0m\u001b[1;33m)\u001b[0m\u001b[1;33m)\u001b[0m\u001b[1;33m\u001b[0m\u001b[1;33m\u001b[0m\u001b[0m\n\u001b[0m\u001b[0;32m      7\u001b[0m     \u001b[0mloss\u001b[0m \u001b[1;33m=\u001b[0m \u001b[0mF\u001b[0m\u001b[1;33m.\u001b[0m\u001b[0mnll_loss\u001b[0m\u001b[1;33m(\u001b[0m\u001b[0moutput\u001b[0m\u001b[1;33m,\u001b[0m \u001b[0mtarget\u001b[0m\u001b[1;33m.\u001b[0m\u001b[0mlong\u001b[0m\u001b[1;33m(\u001b[0m\u001b[1;33m)\u001b[0m\u001b[1;33m.\u001b[0m\u001b[0mcuda\u001b[0m\u001b[1;33m(\u001b[0m\u001b[1;33m)\u001b[0m\u001b[1;33m)\u001b[0m\u001b[1;33m\u001b[0m\u001b[1;33m\u001b[0m\u001b[0m\n\u001b[0;32m      8\u001b[0m     \u001b[0mloss\u001b[0m\u001b[1;33m.\u001b[0m\u001b[0mbackward\u001b[0m\u001b[1;33m(\u001b[0m\u001b[1;33m)\u001b[0m\u001b[1;33m\u001b[0m\u001b[1;33m\u001b[0m\u001b[0m\n",
      "\u001b[1;31mKeyboardInterrupt\u001b[0m: "
     ]
    }
   ],
   "source": [
    "# test()\n",
    "network = Net().cuda()\n",
    "optimizer = optim.Adam(network.parameters(), lr=learning_rate)\n",
    "step = optim.lr_scheduler.MultiStepLR(optimizer, milestones=[55,65], gamma=0.1)\n",
    "for epoch in range(0, n_epochs):\n",
    "    total(epoch)\n",
    "    step.step()\n",
    "    test()\n",
    "    torch.save(network.state_dict(),\"./models/\"+str(epoch)+\".pth\")"
   ]
  },
  {
   "cell_type": "code",
   "execution_count": 111,
   "metadata": {},
   "outputs": [
    {
     "name": "stdout",
     "output_type": "stream",
     "text": [
      "\n",
      "Test set: Avg. loss: 0.0528, Accuracy: 1962/2000 (98%)\n",
      "\n"
     ]
    }
   ],
   "source": [
    "# #Test set: Avg. loss: 0.0898, Accuracy: 1944/2000 (97%)\n",
    "\n",
    "# #Test set: Avg. loss: 0.0971, Accuracy: 1948/2000 (97%)\n",
    "\n",
    "# network.load_state_dict(torch.load(\"./models/44.pth\"))\n",
    "# #Test set: Avg. loss: 0.1377, Accuracy: 1931/2000 (97%)\n",
    "# test()"
   ]
  },
  {
   "cell_type": "code",
   "execution_count": 126,
   "metadata": {},
   "outputs": [
    {
     "name": "stdout",
     "output_type": "stream",
     "text": [
      "tensor([], dtype=torch.int64)\n",
      "tensor([], device='cuda:0', dtype=torch.int64)\n",
      "tensor([], dtype=torch.int64)\n",
      "tensor([], device='cuda:0', dtype=torch.int64)\n",
      "tensor([], dtype=torch.int64)\n",
      "tensor([], device='cuda:0', dtype=torch.int64)\n",
      "tensor([], dtype=torch.int64)\n",
      "tensor([], device='cuda:0', dtype=torch.int64)\n",
      "tensor([], dtype=torch.int64)\n",
      "tensor([], device='cuda:0', dtype=torch.int64)\n",
      "tensor([], dtype=torch.int64)\n",
      "tensor([], device='cuda:0', dtype=torch.int64)\n",
      "tensor([], dtype=torch.int64)\n",
      "tensor([], device='cuda:0', dtype=torch.int64)\n",
      "tensor([], dtype=torch.int64)\n",
      "tensor([], device='cuda:0', dtype=torch.int64)\n"
     ]
    }
   ],
   "source": [
    "freq = {}\n",
    "with torch.no_grad():\n",
    "    for data, target in test_loader:\n",
    "        ##print(data.shape)\n",
    "        output = network(data.cuda())\n",
    "        pred = output.data.max(1, keepdim=True)[1]\n",
    "        #correct += pred.eq(target.cuda().data.view_as(pred)).sum()\n",
    "        print(target[~pred.eq(target.cuda().data.view_as(pred)).data.view_as(target)])\n",
    "        print(pred[~pred.eq(target.cuda().data.view_as(pred)).data.view_as(target)].view(-1))\n",
    "        for x,y in zip(target[~pred.eq(target.cuda().data.view_as(pred)).data.view_as(target)],pred[~pred.eq(target.cuda().data.view_as(pred)).data.view_as(target)].view(-1)):\n",
    "            x = int(x)\n",
    "            if x in freq.keys():\n",
    "                freq[x].append(int(y))\n",
    "            else:\n",
    "                freq[x]=[int(y)]"
   ]
  },
  {
   "cell_type": "code",
   "execution_count": 127,
   "metadata": {},
   "outputs": [
    {
     "data": {
      "text/plain": [
       "{}"
      ]
     },
     "execution_count": 127,
     "metadata": {},
     "output_type": "execute_result"
    }
   ],
   "source": [
    "freq"
   ]
  },
  {
   "cell_type": "code",
   "execution_count": 512,
   "metadata": {},
   "outputs": [
    {
     "data": {
      "text/plain": [
       "OrderedDict([(0, 14),\n",
       "             (1, 6),\n",
       "             (2, 10),\n",
       "             (3, 6),\n",
       "             (4, 4),\n",
       "             (5, 4),\n",
       "             (6, 4),\n",
       "             (7, 7),\n",
       "             (8, 12),\n",
       "             (9, 6)])"
      ]
     },
     "execution_count": 512,
     "metadata": {},
     "output_type": "execute_result"
    }
   ],
   "source": [
    "import collections\n",
    "collections.OrderedDict(sorted(freq.items()))"
   ]
  },
  {
   "cell_type": "code",
   "execution_count": 133,
   "metadata": {},
   "outputs": [],
   "source": [
    "#network.load_state_dict(torch.load(\"./0629 loss.pth\"))"
   ]
  },
  {
   "cell_type": "code",
   "execution_count": 134,
   "metadata": {},
   "outputs": [],
   "source": [
    "# network.eval()"
   ]
  },
  {
   "cell_type": "code",
   "execution_count": 135,
   "metadata": {},
   "outputs": [],
   "source": [
    "# fig = plt.figure()\n",
    "# plt.plot(train_counter, train_losses, color='blue')\n",
    "# plt.scatter(test_counter, test_losses, color='red')\n",
    "# plt.legend(['Train Loss', 'Test Loss'], loc='upper right')\n",
    "# plt.xlabel('number of training examples seen')\n",
    "# plt.ylabel('negative log likelihood loss')\n",
    "# fig"
   ]
  },
  {
   "cell_type": "code",
   "execution_count": null,
   "metadata": {},
   "outputs": [],
   "source": [
    "submision_csv = pd.read_csv(\"sampleSubmission.csv\")"
   ]
  },
  {
   "cell_type": "code",
   "execution_count": 137,
   "metadata": {
    "scrolled": true
   },
   "outputs": [
    {
     "name": "stderr",
     "output_type": "stream",
     "text": [
      "C:\\Users\\Dumi\\Anaconda3\\lib\\site-packages\\ipykernel_launcher.py:19: SettingWithCopyWarning: \n",
      "A value is trying to be set on a copy of a slice from a DataFrame\n",
      "\n",
      "See the caveats in the documentation: http://pandas.pydata.org/pandas-docs/stable/user_guide/indexing.html#returning-a-view-versus-a-copy\n"
     ]
    }
   ],
   "source": [
    "total_test = []\n",
    "for batch_idx, (data, target) in enumerate(output_loader):\n",
    "    output = network(data.cuda())\n",
    "    for x in torch.argmax(output,axis=1):\n",
    "        total_test.append(x)\n",
    "aaaa = []\n",
    "for x in submision_csv.iterrows():\n",
    "    out1 = str()\n",
    "    #print(x[0])\n",
    "    out1 +=str(int(total_test[x[0]*4].cpu()))\n",
    "    out1 +=str(int(total_test[x[0]*4+1].cpu()))\n",
    "    out1 +=str(int(total_test[x[0]*4+2].cpu()))\n",
    "    out1 +=str(int(total_test[x[0]*4+3].cpu()))\n",
    "    #print(out1)\n",
    "    predicted = int(out1)\n",
    "    #print()\n",
    "    #print(x[1])\n",
    "    #print(submision_csv.iloc[x[0]])\n",
    "    submision_csv[\"Expected\"][x[0]] = predicted\n",
    "    #aaaa.append(predicted)"
   ]
  },
  {
   "cell_type": "code",
   "execution_count": 138,
   "metadata": {
    "scrolled": true
   },
   "outputs": [],
   "source": [
    "# for x,y in zip(submision_csv['Expected'].to_list(),test_image):\n",
    "#     print(x)\n",
    "#     plt.imshow(y)\n",
    "#     plt.show()"
   ]
  },
  {
   "cell_type": "code",
   "execution_count": 139,
   "metadata": {},
   "outputs": [
    {
     "data": {
      "text/html": [
       "<div>\n",
       "<style scoped>\n",
       "    .dataframe tbody tr th:only-of-type {\n",
       "        vertical-align: middle;\n",
       "    }\n",
       "\n",
       "    .dataframe tbody tr th {\n",
       "        vertical-align: top;\n",
       "    }\n",
       "\n",
       "    .dataframe thead th {\n",
       "        text-align: right;\n",
       "    }\n",
       "</style>\n",
       "<table border=\"1\" class=\"dataframe\">\n",
       "  <thead>\n",
       "    <tr style=\"text-align: right;\">\n",
       "      <th></th>\n",
       "      <th>Id</th>\n",
       "      <th>Expected</th>\n",
       "    </tr>\n",
       "  </thead>\n",
       "  <tbody>\n",
       "    <tr>\n",
       "      <td>0</td>\n",
       "      <td>22000.jpg</td>\n",
       "      <td>544</td>\n",
       "    </tr>\n",
       "    <tr>\n",
       "      <td>1</td>\n",
       "      <td>22001.jpg</td>\n",
       "      <td>308</td>\n",
       "    </tr>\n",
       "    <tr>\n",
       "      <td>2</td>\n",
       "      <td>22002.jpg</td>\n",
       "      <td>0</td>\n",
       "    </tr>\n",
       "    <tr>\n",
       "      <td>3</td>\n",
       "      <td>22003.jpg</td>\n",
       "      <td>1344</td>\n",
       "    </tr>\n",
       "    <tr>\n",
       "      <td>4</td>\n",
       "      <td>22004.jpg</td>\n",
       "      <td>118</td>\n",
       "    </tr>\n",
       "    <tr>\n",
       "      <td>...</td>\n",
       "      <td>...</td>\n",
       "      <td>...</td>\n",
       "    </tr>\n",
       "    <tr>\n",
       "      <td>2494</td>\n",
       "      <td>24494.jpg</td>\n",
       "      <td>5</td>\n",
       "    </tr>\n",
       "    <tr>\n",
       "      <td>2495</td>\n",
       "      <td>24495.jpg</td>\n",
       "      <td>162</td>\n",
       "    </tr>\n",
       "    <tr>\n",
       "      <td>2496</td>\n",
       "      <td>24496.jpg</td>\n",
       "      <td>329</td>\n",
       "    </tr>\n",
       "    <tr>\n",
       "      <td>2497</td>\n",
       "      <td>24497.jpg</td>\n",
       "      <td>162</td>\n",
       "    </tr>\n",
       "    <tr>\n",
       "      <td>2498</td>\n",
       "      <td>24498.jpg</td>\n",
       "      <td>18</td>\n",
       "    </tr>\n",
       "  </tbody>\n",
       "</table>\n",
       "<p>2499 rows × 2 columns</p>\n",
       "</div>"
      ],
      "text/plain": [
       "             Id  Expected\n",
       "0     22000.jpg       544\n",
       "1     22001.jpg       308\n",
       "2     22002.jpg         0\n",
       "3     22003.jpg      1344\n",
       "4     22004.jpg       118\n",
       "...         ...       ...\n",
       "2494  24494.jpg         5\n",
       "2495  24495.jpg       162\n",
       "2496  24496.jpg       329\n",
       "2497  24497.jpg       162\n",
       "2498  24498.jpg        18\n",
       "\n",
       "[2499 rows x 2 columns]"
      ]
     },
     "execution_count": 139,
     "metadata": {},
     "output_type": "execute_result"
    }
   ],
   "source": [
    "submision_csv"
   ]
  },
  {
   "cell_type": "code",
   "execution_count": 468,
   "metadata": {},
   "outputs": [
    {
     "data": {
      "text/html": [
       "<div>\n",
       "<style scoped>\n",
       "    .dataframe tbody tr th:only-of-type {\n",
       "        vertical-align: middle;\n",
       "    }\n",
       "\n",
       "    .dataframe tbody tr th {\n",
       "        vertical-align: top;\n",
       "    }\n",
       "\n",
       "    .dataframe thead th {\n",
       "        text-align: right;\n",
       "    }\n",
       "</style>\n",
       "<table border=\"1\" class=\"dataframe\">\n",
       "  <thead>\n",
       "    <tr style=\"text-align: right;\">\n",
       "      <th></th>\n",
       "      <th>Id</th>\n",
       "      <th>Expected</th>\n",
       "    </tr>\n",
       "  </thead>\n",
       "  <tbody>\n",
       "    <tr>\n",
       "      <td>0</td>\n",
       "      <td>22000.jpg</td>\n",
       "      <td>544</td>\n",
       "    </tr>\n",
       "    <tr>\n",
       "      <td>1</td>\n",
       "      <td>22001.jpg</td>\n",
       "      <td>308</td>\n",
       "    </tr>\n",
       "    <tr>\n",
       "      <td>2</td>\n",
       "      <td>22002.jpg</td>\n",
       "      <td>0</td>\n",
       "    </tr>\n",
       "    <tr>\n",
       "      <td>3</td>\n",
       "      <td>22003.jpg</td>\n",
       "      <td>1344</td>\n",
       "    </tr>\n",
       "    <tr>\n",
       "      <td>4</td>\n",
       "      <td>22004.jpg</td>\n",
       "      <td>118</td>\n",
       "    </tr>\n",
       "    <tr>\n",
       "      <td>...</td>\n",
       "      <td>...</td>\n",
       "      <td>...</td>\n",
       "    </tr>\n",
       "    <tr>\n",
       "      <td>2494</td>\n",
       "      <td>24494.jpg</td>\n",
       "      <td>5</td>\n",
       "    </tr>\n",
       "    <tr>\n",
       "      <td>2495</td>\n",
       "      <td>24495.jpg</td>\n",
       "      <td>162</td>\n",
       "    </tr>\n",
       "    <tr>\n",
       "      <td>2496</td>\n",
       "      <td>24496.jpg</td>\n",
       "      <td>329</td>\n",
       "    </tr>\n",
       "    <tr>\n",
       "      <td>2497</td>\n",
       "      <td>24497.jpg</td>\n",
       "      <td>162</td>\n",
       "    </tr>\n",
       "    <tr>\n",
       "      <td>2498</td>\n",
       "      <td>24498.jpg</td>\n",
       "      <td>18</td>\n",
       "    </tr>\n",
       "  </tbody>\n",
       "</table>\n",
       "<p>2499 rows × 2 columns</p>\n",
       "</div>"
      ],
      "text/plain": [
       "             Id  Expected\n",
       "0     22000.jpg       544\n",
       "1     22001.jpg       308\n",
       "2     22002.jpg         0\n",
       "3     22003.jpg      1344\n",
       "4     22004.jpg       118\n",
       "...         ...       ...\n",
       "2494  24494.jpg         5\n",
       "2495  24495.jpg       162\n",
       "2496  24496.jpg       329\n",
       "2497  24497.jpg       162\n",
       "2498  24498.jpg        18\n",
       "\n",
       "[2499 rows x 2 columns]"
      ]
     },
     "execution_count": 468,
     "metadata": {},
     "output_type": "execute_result"
    }
   ],
   "source": [
    "submision_csv"
   ]
  },
  {
   "cell_type": "code",
   "execution_count": 85,
   "metadata": {
    "scrolled": true
   },
   "outputs": [
    {
     "name": "stdout",
     "output_type": "stream",
     "text": [
      "Index  69  diff  6 3\n",
      "Index  72  diff  6 3\n",
      "Index  86  diff  251 2519\n",
      "Index  87  diff  162 160\n",
      "Index  89  diff  304 2048\n",
      "Index  91  diff  1820 1620\n",
      "Index  96  diff  162 160\n",
      "Index  97  diff  3 5\n",
      "Index  98  diff  251 2519\n",
      "Index  99  diff  854 8500\n",
      "Index  100  diff  1280 1200\n",
      "Index  103  diff  1820 1620\n",
      "Index  104  diff  304 2048\n",
      "Index  106  diff  3 5\n",
      "Index  111  diff  854 8500\n",
      "Index  114  diff  282 2823\n",
      "Index  123  diff  0 1\n",
      "Index  126  diff  282 2823\n",
      "Index  127  diff  1415 1410\n",
      "Index  128  diff  384 284\n",
      "Index  129  diff  827 727\n",
      "Index  144  diff  260 2609\n",
      "Index  146  diff  0 60\n",
      "Index  148  diff  30 830\n",
      "Index  156  diff  201 2615\n",
      "Index  158  diff  230 850\n",
      "Index  187  diff  157 158\n",
      "Index  188  diff  3 0\n",
      "Index  189  diff  218 2180\n",
      "Index  190  diff  82 12\n",
      "Index  192  diff  717 17\n",
      "Index  193  diff  22 12\n",
      "Index  200  diff  888 881\n",
      "Index  201  diff  220 2202\n",
      "Index  203  diff  111 811\n",
      "Index  213  diff  487 464\n",
      "Index  216  diff  780 480\n",
      "Index  217  diff  1100 1106\n",
      "Index  225  diff  800 8000\n",
      "Index  226  diff  520 5200\n",
      "Index  227  diff  520 5200\n",
      "Index  232  diff  619 6190\n",
      "Index  241  diff  720 710\n",
      "Index  243  diff  5 0\n",
      "Index  249  diff  622 6220\n",
      "Index  250  diff  310 5100\n",
      "Index  252  diff  1290 1990\n",
      "Index  256  diff  292 2920\n",
      "Index  257  diff  292 2920\n",
      "Index  259  diff  1308 1300\n",
      "Index  260  diff  279 2790\n",
      "Index  261  diff  643 6430\n",
      "Index  262  diff  351 3510\n",
      "Index  263  diff  790 7900\n",
      "Index  264  diff  625 615\n",
      "Index  266  diff  0 6\n",
      "Index  282  diff  233 33\n",
      "Index  294  diff  206 2069\n",
      "Index  297  diff  179 479\n",
      "Index  300  diff  24 4\n",
      "Index  302  diff  922 982\n",
      "Index  306  diff  208 2085\n",
      "Index  308  diff  208 209\n",
      "Index  310  diff  87 81\n",
      "Index  323  diff  232 231\n",
      "Index  327  diff  67 87\n",
      "Index  328  diff  20 39\n",
      "Index  342  diff  107 7\n",
      "Index  350  diff  13 813\n",
      "Index  353  diff  32 132\n",
      "Index  354  diff  226 2261\n",
      "Index  355  diff  0 8\n",
      "Index  356  diff  0 30\n",
      "Index  366  diff  227 2276\n",
      "Index  367  diff  8 1081\n",
      "Index  371  diff  29 9\n",
      "Index  372  diff  383 513\n",
      "Index  376  diff  873 813\n",
      "Index  377  diff  173 873\n",
      "Index  381  diff  1005 1605\n",
      "Index  387  diff  7 47\n",
      "Index  390  diff  8 1\n",
      "Index  417  diff  4 94\n",
      "Index  429  diff  299 2997\n",
      "Index  435  diff  2 0\n",
      "Index  442  diff  142 148\n",
      "Index  443  diff  72 42\n",
      "Index  444  diff  250 850\n",
      "Index  459  diff  1440 1490\n",
      "Index  461  diff  35 835\n",
      "Index  462  diff  513 313\n",
      "Index  464  diff  114 8114\n",
      "Index  465  diff  712 104\n",
      "Index  466  diff  1029 1028\n",
      "Index  467  diff  1029 1028\n",
      "Index  468  diff  700 8000\n",
      "Index  470  diff  1004 1080\n",
      "Index  471  diff  216 2160\n",
      "Index  472  diff  1078 1071\n",
      "Index  480  diff  3 1\n",
      "Index  486  diff  124 120\n",
      "Index  491  diff  37 27\n",
      "Index  493  diff  74 24\n",
      "Index  501  diff  134 834\n",
      "Index  509  diff  5 0\n",
      "Index  510  diff  8 0\n",
      "Index  520  diff  8 1006\n",
      "Index  521  diff  10 13\n",
      "Index  524  diff  3 9\n",
      "Index  532  diff  350 550\n",
      "Index  533  diff  482 422\n",
      "Index  549  diff  225 2059\n",
      "Index  552  diff  44 94\n",
      "Index  556  diff  701 702\n",
      "Index  561  diff  225 2259\n",
      "Index  568  diff  725 125\n",
      "Index  571  diff  367 567\n",
      "Index  572  diff  567 67\n",
      "Index  577  diff  106 400\n",
      "Index  578  diff  173 193\n",
      "Index  579  diff  60 360\n",
      "Index  580  diff  4 7\n",
      "Index  586  diff  355 555\n",
      "Index  594  diff  252 526\n",
      "Index  606  diff  253 2538\n",
      "Index  607  diff  1550 1559\n",
      "Index  613  diff  41 71\n",
      "Index  616  diff  461 481\n",
      "Index  624  diff  305 3055\n",
      "Index  636  diff  300 3000\n",
      "Index  672  diff  240 746\n",
      "Index  673  diff  97 93\n",
      "Index  683  diff  778 378\n",
      "Index  697  diff  580 590\n",
      "Index  704  diff  0 880\n",
      "Index  710  diff  654 650\n",
      "Index  718  diff  33 35\n",
      "Index  730  diff  42 46\n",
      "Index  735  diff  10 0\n",
      "Index  736  diff  217 618\n",
      "Index  739  diff  400 4008\n",
      "Index  745  diff  87 85\n",
      "Index  746  diff  13 43\n",
      "Index  747  diff  320 380\n",
      "Index  749  diff  7 8\n",
      "Index  750  diff  3 13\n",
      "Index  751  diff  782 882\n",
      "Index  752  diff  772 710\n",
      "Index  755  diff  63 763\n",
      "Index  757  diff  802 808\n",
      "Index  758  diff  305 0\n",
      "Index  763  diff  12 42\n",
      "Index  778  diff  6 16\n",
      "Index  783  diff  5 0\n",
      "Index  789  diff  200 2\n",
      "Index  790  diff  1210 1810\n",
      "Index  791  diff  360 3600\n",
      "Index  792  diff  437 4370\n",
      "Index  793  diff  710 7100\n",
      "Index  794  diff  300 3000\n",
      "Index  796  diff  971 9710\n",
      "Index  797  diff  971 9710\n",
      "Index  798  diff  8 0\n",
      "Index  799  diff  200 8000\n",
      "Index  800  diff  961 9510\n",
      "Index  801  diff  237 2372\n",
      "Index  803  diff  235 350\n",
      "Index  819  diff  1501 1551\n",
      "Index  825  diff  2 0\n",
      "Index  826  diff  722 720\n",
      "Index  827  diff  720 180\n",
      "Index  830  diff  776 770\n",
      "Index  831  diff  1516 1511\n",
      "Index  832  diff  728 732\n",
      "Index  833  diff  234 34\n",
      "Index  834  diff  210 2309\n",
      "Index  846  diff  233 2331\n",
      "Index  852  diff  39 34\n",
      "Index  865  diff  60 68\n",
      "Index  869  diff  60 0\n",
      "Index  871  diff  524 24\n",
      "Index  872  diff  573 523\n",
      "Index  879  diff  316 3163\n",
      "Index  891  diff  328 3283\n",
      "Index  894  diff  470 410\n",
      "Index  895  diff  238 232\n",
      "Index  896  diff  200 2004\n",
      "Index  897  diff  204 49\n",
      "Index  898  diff  2 502\n",
      "Index  899  diff  21 1\n",
      "Index  900  diff  206 69\n",
      "Index  901  diff  217 6278\n",
      "Index  902  diff  278 378\n",
      "Index  903  diff  212 806\n",
      "Index  905  diff  227 6274\n",
      "Index  906  diff  489 485\n",
      "Index  907  diff  211 318\n",
      "Index  908  diff  616 165\n",
      "Index  909  diff  700 300\n",
      "Index  915  diff  1000 0\n",
      "Index  917  diff  127 147\n",
      "Index  939  diff  227 2244\n",
      "Index  951  diff  229 2297\n",
      "Index  958  diff  10 0\n",
      "Index  969  diff  224 104\n",
      "Index  970  diff  17 13\n",
      "Index  975  diff  5 0\n",
      "Index  978  diff  300 3000\n",
      "Index  1000  diff  1025 1015\n",
      "Index  1002  diff  402 1026\n",
      "Index  1003  diff  260 4\n",
      "Index  1005  diff  200 3\n",
      "Index  1009  diff  200 6008\n",
      "Index  1010  diff  618 180\n",
      "Index  1011  diff  332 6332\n",
      "Index  1014  diff  251 1512\n",
      "Index  1015  diff  194 104\n",
      "Index  1017  diff  337 327\n",
      "Index  1021  diff  1103 103\n",
      "Index  1022  diff  1103 1193\n",
      "Index  1026  diff  252 2520\n",
      "Index  1027  diff  1327 1328\n",
      "Index  1028  diff  450 150\n",
      "Index  1030  diff  30 38\n",
      "Index  1031  diff  41 38\n",
      "Index  1032  diff  323 823\n",
      "Index  1035  diff  1013 13\n",
      "Index  1039  diff  226 26\n",
      "Index  1042  diff  1752 752\n",
      "Index  1046  diff  12 2\n",
      "Index  1049  diff  700 2\n",
      "Index  1060  diff  0 6\n",
      "Index  1061  diff  2 0\n",
      "Index  1062  diff  75 15\n",
      "Index  1063  diff  704 4\n",
      "Index  1065  diff  9 4\n",
      "Index  1070  diff  83 88\n",
      "Index  1072  diff  34 54\n",
      "Index  1073  diff  32 38\n",
      "Index  1080  diff  3 503\n",
      "Index  1082  diff  520 620\n",
      "Index  1089  diff  704 9040\n",
      "Index  1090  diff  850 2800\n",
      "Index  1091  diff  1405 1700\n",
      "Index  1093  diff  785 7850\n",
      "Index  1094  diff  5 50\n",
      "Index  1096  diff  479 4100\n",
      "Index  1097  diff  429 4200\n",
      "Index  1099  diff  900 9000\n",
      "Index  1100  diff  420 4203\n",
      "Index  1101  diff  925 4255\n",
      "Index  1102  diff  486 4860\n",
      "Index  1104  diff  213 1138\n",
      "Index  1105  diff  121 6111\n",
      "Index  1111  diff  903 703\n",
      "Index  1115  diff  398 358\n",
      "Index  1116  diff  214 2140\n",
      "Index  1119  diff  508 5080\n",
      "Index  1120  diff  405 4000\n",
      "Index  1122  diff  1715 915\n",
      "Index  1123  diff  1700 1300\n",
      "Index  1125  diff  1255 1205\n",
      "Index  1126  diff  270 2700\n",
      "Index  1127  diff  270 2700\n",
      "Index  1128  diff  55 500\n",
      "Index  1129  diff  905 9000\n",
      "Index  1130  diff  261 2610\n",
      "Index  1131  diff  535 5350\n",
      "Index  1132  diff  265 2650\n",
      "Index  1133  diff  340 3400\n",
      "Index  1134  diff  317 170\n",
      "Index  1135  diff  305 3000\n",
      "Index  1136  diff  217 2100\n",
      "Index  1137  diff  1695 1690\n",
      "Index  1138  diff  920 9600\n",
      "Index  1139  diff  400 4000\n",
      "Index  1140  diff  1055 1600\n",
      "Index  1141  diff  549 5490\n",
      "Index  1142  diff  549 5490\n",
      "Index  1144  diff  900 9000\n",
      "Index  1145  diff  544 5400\n",
      "Index  1146  diff  1775 770\n",
      "Index  1147  diff  328 3260\n",
      "Index  1148  diff  201 2010\n",
      "Index  1153  diff  28 38\n",
      "Index  1156  diff  425 485\n",
      "Index  1158  diff  320 30\n",
      "Index  1161  diff  780 980\n",
      "Index  1170  diff  601 1\n",
      "Index  1179  diff  1764 1769\n",
      "Index  1182  diff  701 501\n",
      "Index  1185  diff  600 2\n",
      "Index  1186  diff  33 833\n",
      "Index  1190  diff  686 6708\n",
      "Index  1192  diff  939 935\n",
      "Index  1196  diff  15 5\n",
      "Index  1197  diff  100 102\n",
      "Index  1198  diff  7 1\n",
      "Index  1210  diff  1023 23\n",
      "Index  1214  diff  1 6001\n",
      "Index  1226  diff  42 48\n",
      "Index  1230  diff  1 4\n",
      "Index  1232  diff  749 744\n",
      "Index  1236  diff  1533 1593\n",
      "Index  1237  diff  781 780\n",
      "Index  1242  diff  371 374\n",
      "Index  1244  diff  0 6\n",
      "Index  1245  diff  1 0\n",
      "Index  1246  diff  480 0\n",
      "Index  1249  diff  80 0\n",
      "Index  1251  diff  1247 100\n",
      "Index  1252  diff  790 490\n",
      "Index  1254  diff  262 2624\n",
      "Index  1256  diff  18 48\n",
      "Index  1260  diff  8 4\n",
      "Index  1261  diff  1017 1007\n",
      "Index  1265  diff  1061 1001\n",
      "Index  1266  diff  263 2630\n",
      "Index  1268  diff  209 299\n",
      "Index  1269  diff  387 23\n",
      "Index  1270  diff  173 73\n",
      "Index  1271  diff  6 0\n",
      "Index  1272  diff  740 700\n",
      "Index  1275  diff  70 0\n",
      "Index  1276  diff  210 2003\n",
      "Index  1278  diff  10 80\n",
      "Index  1280  diff  1364 1300\n",
      "Index  1281  diff  304 3004\n",
      "Index  1282  diff  1238 1832\n",
      "Index  1283  diff  4 0\n",
      "Index  1284  diff  354 2354\n",
      "Index  1285  diff  500 1000\n",
      "Index  1286  diff  500 1004\n",
      "Index  1287  diff  707 4\n",
      "Index  1288  diff  507 41\n",
      "Index  1289  diff  700 504\n",
      "Index  1290  diff  37 31\n",
      "Index  1291  diff  704 7\n",
      "Index  1292  diff  204 2804\n",
      "Index  1294  diff  30 32\n",
      "Index  1295  diff  1172 112\n",
      "Index  1296  diff  334 354\n",
      "Index  1297  diff  1950 1850\n",
      "Index  1298  diff  500 11\n",
      "Index  1299  diff  241 2415\n",
      "Index  1302  diff  745 45\n",
      "Index  1309  diff  21 81\n",
      "Index  1311  diff  241 2413\n",
      "Index  1314  diff  295 2952\n",
      "Index  1316  diff  83 73\n",
      "Index  1326  diff  295 2953\n",
      "Index  1330  diff  106 166\n",
      "Index  1331  diff  39 59\n",
      "Index  1333  diff  45 5\n",
      "Index  1342  diff  627 628\n",
      "Index  1343  diff  177 117\n",
      "Index  1351  diff  671 718\n",
      "Index  1353  diff  0 6200\n",
      "Index  1356 1436  diff  72 32\n",
      "Index  1437  diff  16 46\n",
      "Index  1438  diff  8 68\n",
      "Index  1440  diff  16 6\n",
      "Index  1441  diff  720 820\n",
      "Index  1442  diff  820 420\n",
      "Index  1444  diff  17 13\n",
      "Index  1445  diff  103 403\n",
      "Index  1447  diff  1107 1102\n",
      "Index  1449  diff  210 2104\n",
      "Index  1453  diff  26 20\n",
      "Index  1454  diff  2 0\n",
      "Index  1455  diff  208 608\n",
      "Index  1461  diff  210 2104\n",
      "Index  1462  diff  1030 1020\n",
      "Index  1463  diff  366 506\n",
      "Index  1469  diff  0 3\n",
      "Index  1481  diff  40 0\n",
      "Index  1482  diff  100 108\n",
      "Index  1493  diff  93 43\n",
      "Index  1500  diff  6 506\n",
      "Index  1505  diff  439 479\n",
      "Index  1513  diff  90 0\n",
      "Index  1515  diff  8 1\n",
      "Index  1545  diff  13 15\n",
      "Index  1548  diff  0 6000\n",
      "Index  1551  diff  165 160\n",
      "Index  1552  diff  51 50\n",
      "Index  1556  diff  1003 3\n",
      "Index  1561  diff  92 42\n",
      "Index  1569  diff  290 2907\n",
      "Index  1576  diff  1386 1986\n",
      "Index  1581  diff  300 3004\n",
      "Index  1584  diff  612 184\n",
      "Index  1585  diff  202 222\n",
      "Index  1586  diff  27 0\n",
      "Index  1587  diff  420 1\n",
      "Index  1588  diff  21 1\n",
      "Index  1589  diff  0 10\n",
      "Index  1590  diff  212 12\n",
      "Index  1592  diff  129 169\n",
      "Index  1596  diff  189 185\n",
      "Index  1597  diff  308 2080\n",
      "Index  1599  diff  81 281\n",
      "Index  1629  diff  229 2291\n",
      "Index  1631  diff  94 34\n",
      "Index  1637  diff  923 927\n",
      "Index  1640  diff  907 707\n",
      "Index  1641  diff  229 2297\n",
      "Index  1643  diff  0 6\n",
      "Index  4500\n",
      "Index  1920  diff  700 7008\n",
      "Index  1921  diff  291 2918\n",
      "Index  1922  diff  291 2910\n",
      "Index  1923  diff  8 88\n",
      "Index  1925  diff  278 2780\n",
      "Index  1926  diff  582 5820\n",
      "Index  1927  diff  291 2918\n",
      "Index  1928  diff  870 8700\n",
      "Index  1931  diff  22 27\n",
      "Index  1945  diff  52 57\n",
      "Index  1954  diff  0 8\n",
      "Index  1959  diff  278 878\n",
      "Index  1961  diff  702 882\n",
      "Index  1962  diff  40 840\n",
      "Index  1963  diff  12 18\n",
      "Index  1964  diff  0 8800\n",
      "Index  1971  diff  723 238\n",
      "Index  1972  diff  76 70\n",
      "Index  1973  diff  73 873\n",
      "Index  1976  diff  703 803\n",
      "Index  1977  diff  717 817\n",
      "Index  1979  diff  0 8800\n",
      "Index  1983  diff  70 0\n",
      "Index  1985  diff  165 5165\n",
      "Index  1986  diff  54 254\n",
      "Index  1989  diff  1269 1369\n",
      "Index  1993  diff  28 88\n",
      "Index  2000  diff  667 664\n",
      "Index  2006  diff  13 15\n",
      "Index  2015  diff  418 18\n",
      "Index  2017  diff  534 554\n",
      "Index  2025  diff  0 9\n",
      "Index  2043  diff  7 3\n",
      "Index  2049  diff  807 2074\n",
      "Index  2050  diff  23 3\n",
      "Index  2051  diff  503 50\n",
      "Index  2052  diff  500 5500\n",
      "Index  2053  diff  0 50\n",
      "Index  2054  diff  1 0\n",
      "Index  2055  diff  0 4\n",
      "Index  2056  diff  1173 1117\n",
      "Index  2057  diff  1132 3133\n",
      "Index  2059  diff  25 20\n",
      "Index  2060  diff  1102 1132\n",
      "Index  2061  diff  207 2674\n",
      "Index  2066  diff  0 8007\n",
      "Index  2068  diff  8 5507\n",
      "Index  2070  diff  70 8000\n",
      "Index  2077  diff  0 5\n",
      "Index  2078  diff  700  2338  diff  474 4740\n",
      "Index  2339  diff  800 0\n",
      "Index  2340  diff  819 813\n",
      "Index  2342  diff  80 310\n",
      "Index  2343  diff  371 380\n",
      "Index  2346  diff  4 0\n",
      "Index  2376  diff  1250 1252\n",
      "Index  2387  diff  644 544\n",
      "Index  2407  diff  483 403\n",
      "Index  2410  diff  5 0\n",
      "Index  2412  diff  74 54\n",
      "Index  2434  diff  15 13\n",
      "Index  2441  diff  34 54\n",
      "Index  2449  diff  32 52\n",
      "Index  2454  diff  985 885\n",
      "Index  2455  diff  27 87\n",
      "Index  2459  diff  3 83\n",
      "Index  2463  diff  70 80\n",
      "Index  2464  diff  2 82\n",
      "Index  2466  diff  885 895\n",
      "Index  2467  diff  425 8428\n",
      "Index  2468  diff  210 810\n"
     ]
    }
   ],
   "source": [
    "for index,x in enumerate(submision_csv['Expected'].to_list()):\n",
    "    if x != best[index]:\n",
    "        print(\"Index \", index,\" diff \",x,best[index])"
   ]
  },
  {
   "cell_type": "code",
   "execution_count": 715,
   "metadata": {
    "scrolled": true
   },
   "outputs": [
    {
     "name": "stdout",
     "output_type": "stream",
     "text": [
      "[544, 308, 0, 1344, 118, 118, 42, 178, 1344, 1367, 91, 4, 17, 170, 178, 4, 665, 665, 4, 42, 0, 17, 648, 665, 648, 702, 1367, 702, 91, 170, 0, 1029, 1027, 1029, 117, 117, 21, 150, 21, 2, 150, 4, 2, 21, 237, 602, 34, 602, 4, 425, 0, 568, 34, 602, 568, 1027, 425, 237, 0, 201, 14, 5, 47, 134, 28, 14, 0, 166, 172, 3, 28, 172, 3, 306, 172, 47, 0, 5, 6, 6, 68, 166, 306, 134, 68, 0, 2519, 160, 11, 2048, 1809, 1620, 580, 1380, 55, 3, 160, 5, 2519, 8500, 1200, 3, 354, 1620, 2048, 0, 5, 580, 11, 55, 1809, 8500, 1380, 354, 2823, 271, 57, 581, 109, 7, 12, 1408, 1408, 1, 29, 1379, 2823, 1410, 284, 727, 58, 21, 99, 39, 1, 16, 525, 525, 0, 5, 520, 827, 302, 282, 2609, 93, 60, 472, 830, 3, 12, 1122, 1114, 8, 44, 1070, 2615, 1493, 850, 1071, 151, 25, 121, 66, 0, 5, 621, 621, 0, 10, 611, 1080, 459, 232, 268, 7, 6, 31, 15, 0, 9, 112, 112, 0, 5, 107, 269, 158, 0, 2180, 12, 27, 17, 12, 3, 20, 902, 902, 0, 14, 881, 2202, 1300, 811, 0, 62, 37, 0, 272, 37, 1121, 6, 487, 464, 0, 0, 480, 1106, 0, 1130, 73, 14, 276, 38, 0, 8000, 5200, 5200, 0, 7, 513, 1139, 6190, 80, 1577, 107, 25, 240, 132, 0, 11, 710, 720, 0, 15, 705, 1589, 869, 167, 6220, 5100, 1400, 1990, 1300, 0, 1600, 2920, 2920, 0, 1300, 2790, 6430, 3510, 7900, 615, 33, 6, 68, 80, 1, 2, 370, 370, 0, 10, 360, 623, 253, 161, 544, 4, 16, 33, 26, 0, 5, 353, 353, 0, 7, 346, 546, 193, 58, 2069, 146, 22, 479, 62, 4, 4, 982, 982, 0, 20, 962, 2085, 1103, 209, 799, 81, 16, 68, 65, 1, 7, 493, 493, 0, 12, 481, 811, 318, 231, 640, 37, 9, 87, 39, 2, 5, 354, 353, 1, 8, 345, 547, 193, 189, 1327, 101, 28, 7, 30, 0, 8, 843, 843, 0, 30, 813, 1352, 509, 132, 2261, 8, 30, 0, 0, 0, 30, 1188, 1173, 15, 20, 1153, 2276, 1081, 0, 1605, 21, 9, 513, 64, 0, 39, 813, 873, 0, 9, 864, 1605, 732, 132, 438, 0, 2, 47, 13, 0, 1, 240, 240, 0, 7, 233, 440, 200, 20, 1133, 101, 28, 87, 41, 4, 3, 706, 706, 0, 81, 625, 1140, 434, 329, 1053, 146, 10, 94, 57, 0, 5, 580, 580, 0, 15, 565, 1053, 473, 245, 2997, 14, 4, 1, 30, 1, 0, 148, 149, 0, 1, 147, 290, 148, 42, 850, 45, 21, 61, 126, 0, 3, 479, 479, 0, 19, 460, 876, 397, 196, 1490, 106, 835, 313, 83, 8114, 104, 1028, 1028, 8000, 15, 1080, 2160, 1071, 230, 133, 2, 3, 38, 13, 0, 1, 85, 85, 0, 1, 4, 120, 39, 26, 834, 23, 27, 100, 24, 1, 1, 446, 446, 0, 12, 434, 834, 388, 140, 300, 2, 6, 62, 128, 0, 0, 261, 261, 0, 5, 256, 399, 138, 56, 99, 1006, 13, 68, 19, 9, 2, 586, 586, 0, 11, 575, 36, 550, 422, 1501, 14, 24, 408, 96, 0, 2, 820, 820, 0, 19, 801, 1493, 673, 232, 2059, 124, 16, 94, 29, 2, 8, 702, 701, 0, 11, 690, 2259, 1558, 412, 961, 25, 33, 160, 125, 1, 6, 567, 67, 0, 14, 553, 973, 400, 193, 360, 7, 27, 250, 27, 0, 5, 555, 555, 0, 19, 536, 863, 308, 220, 526, 122, 53, 162, 46, 1, 3, 979, 979, 0, 25, 954, 2538, 1559, 549, 763, 3, 9, 42, 71, 3, 5, 481, 431, 0, 15, 416, 764, 333, 127, 3055, 150, 49, 662, 122, 2, 9, 1341, 1341, 0, 44, 1297, 3000, 1659, 257, 953, 44, 27, 157, 66, 2, 4, 572, 572, 0, 14, 558, 976, 404, 251, 209, 1, 3, 113, 12, 0, 11, 52, 152, 0, 5, 147, 211, 59, 18, 1479, 75, 30, 746, 93, 3, 7, 872, 872, 0, 20, 852, 1488, 616, 378, 1062, 49, 15, 69, 98, 3, 6, 493, 485, 8, 15, 470, 1083, 590, 236, 1210, 110, 25, 111, 27, 880, 7, 660, 660, 0, 6, 650, 1222, 562, 364, 610, 64, 15, 57, 35, 3, 9, 368, 368, 0, 10, 358, 602, 234, 172, 11, 46, 22, 132, 13, 2, 0, 618, 619, 0, 4008, 610, 983, 365, 241, 1073, 85, 43, 380, 41, 8, 13, 882, 710, 0, 19, 763, 1580, 808, 0, 1030, 4, 19, 442, 42, 1, 5, 629, 629, 0, 12, 617, 1037, 408, 85, 1537, 7, 38, 320, 16, 0, 3, 747, 747, 0, 14, 733, 1555, 808, 65, 2, 1810, 3600, 4370, 7100, 3000, 1800, 9710, 9710, 0, 8000, 9510, 2372, 1401, 350, 1081, 47, 19, 165, 58, 2, 12, 578, 578, 0, 13, 565, 1181, 603, 248, 1551, 54, 51, 120, 69, 4, 0, 720, 180, 0, 10, 770, 1511, 732, 34, 2309, 171, 63, 179, 113, 1, 1, 1087, 1087, 0, 31, 1056, 2331, 1244, 497, 1092, 62, 12, 34, 4, 3, 9, 638, 638, 0, 10, 628, 1108, 470, 493, 983, 68, 13, 82, 18, 0, 9, 24, 523, 1, 12, 517, 995, 471, 311, 3163, 140, 45, 824, 115, 1, 73, 1494, 1494, 0, 33, 1461, 3283, 1789, 210, 410, 232, 2004, 49, 502, 1, 69, 6278, 378, 806, 4, 6274, 485, 318, 165, 300, 0, 2, 102, 6, 0, 0, 147, 147, 0, 7, 140, 307, 160, 25, 1742, 97, 26, 376, 32, 4, 3, 734, 739, 0, 8, 731, 1742, 1003, 168, 2244, 180, 49, 321, 101, 4, 2, 1136, 1136, 0, 19, 1117, 2297, 1161, 409, 436, 0, 8, 78, 0, 0, 5, 237, 237, 0, 7, 230, 435, 198, 6, 104, 13, 11, 68, 11, 0, 0, 237, 237, 3000, 10, 227, 483, 246, 59, 311, 15, 8, 50, 14, 1, 1, 136, 136, 0, 2, 134, 307, 171, 43, 225, 1015, 5, 1026, 4, 1, 3, 188, 188, 0, 6008, 180, 6332, 144, 111, 1512, 104, 60, 327, 81, 8, 4, 103, 1193, 0, 31, 1162, 2520, 1328, 150, 1446, 38, 38, 823, 31, 1, 13, 696, 696, 0, 26, 670, 1446, 752, 337, 613, 10, 2, 120, 16, 2, 2, 291, 291, 0, 8, 283, 607, 316, 108, 139, 6, 0, 15, 4, 0, 4, 88, 88, 0, 0, 88, 142, 54, 38, 951, 33, 24, 161, 155, 0, 503, 520, 620, 0, 9, 511, 947, 427, 115, 9040, 2800, 1700, 1575, 7850, 50, 1100, 4100, 4200, 0, 9000, 4203, 4255, 4860, 1160, 1138, 6111, 36, 430, 43, 3, 7, 703, 903, 0, 15, 358, 2140, 1237, 157, 5080, 4000, 1000, 915, 1300, 0, 1205, 2700, 2700, 500, 9000, 2610, 5350, 2650, 3400, 170, 3000, 2100, 1690, 9600, 4000, 1600, 5490, 5490, 0, 9000, 5400, 770, 3260, 2010, 938, 24, 19, 242, 38, 0, 4, 485, 485, 30, 18, 467, 980, 495, 110, 386, 9, 10, 68, 34, 3, 1, 192, 192, 0, 3, 189, 386, 194, 59, 1769, 111, 30, 501, 48, 3, 2, 833, 833, 0, 23, 6708, 1772, 935, 430, 662, 24, 5, 102, 1, 1, 1, 319, 319, 0, 15, 304, 669, 350, 148, 1144, 23, 47, 332, 41, 6001, 3, 593, 593, 0, 16, 577, 1228, 635, 97, 1033, 121, 48, 200, 28, 8, 4, 749, 744, 0, 19, 730, 1593, 780, 199, 1200, 139, 43, 374, 29, 6, 0, 0, 400, 0, 0, 423, 100, 490, 305, 2624, 136, 48, 393, 138, 7, 4, 1007, 1047, 0, 33, 1001, 2630, 1533, 299, 23, 73, 0, 700, 0, 3, 0, 2003, 1303, 80, 23, 1300, 3004, 1832, 0, 2354, 1000, 1004, 4, 41, 504, 31, 7, 2804, 0, 32, 112, 354, 1850, 11, 2415, 228, 61, 45, 34, 4, 6, 1154, 1154, 0, 81, 1127, 2413, 1259, 380, 2952, 195, 73, 385, 55, 21, 9, 1198, 1198, 0, 26, 1172, 2953, 1755, 323, 1253, 166, 59, 119, 5, 3, 7, 630, 30, 0, 17, 613, 1258, 628, 117, 1776, 142, 61, 218, 35, 7, 5, 718, 718, 6200, 32, 686, 8781, 1063, 155, 743, 3, 18, 259, 44, 3, 1, 397, 397, 0, 7, 390, 743, 346, 32, 1305, 70, 19, 288, 47, 0, 2, 764, 764, 0, 31, 733, 1313, 549, 290, 450, 18, 5, 48, 23, 2, 5, 285, 285, 0, 2, 283, 438, 153, 180, 617, 41, 22, 230, 31, 1, 2, 355, 355, 800, 8, 347, 630, 275, 195, 308, 15, 5, 34, 11, 0, 2, 161, 161, 0, 3, 152, 300, 138, 2, 1115, 49, 32, 46, 68, 2, 6, 820, 420, 0, 13, 403, 1927, 1102, 0, 2104, 119, 34, 241, 20, 0, 608, 1074, 1074, 0, 22, 1052, 2104, 1020, 506, 78, 3, 3, 8, 2, 3, 11, 52, 52, 0, 3, 49, 78, 26, 33, 400, 6, 0, 108, 3, 0, 10, 245, 245, 0, 8, 237, 400, 155, 43, 889, 97, 21, 97, 41, 0, 506, 456, 496, 0, 7, 479, 531, 435, 215, 1177, 65, 19, 189, 0, 0, 1, 599, 593, 0, 8, 585, 1177, 584, 211, 76, 0, 1, 24, 5, 0, 0, 47, 47, 0, 1, 46, 76, 29, 10, 165, 3, 3, 55, 17, 1, 15, 611, 111, 6000, 1, 110, 160, 50, 22, 159, 0, 3, 39, 15, 0, 3, 42, 92, 0, 0, 92, 153, 61, 32, 2907, 107, 48, 710, 239, 3, 19, 1986, 1386, 0, 27, 1359, 3004, 1618, 179, 184, 222, 0, 1, 1, 10, 12, 109, 169, 0, 3, 106, 185, 2080, 218, 281, 4, 7, 57, 21, 0, 6, 176, 176, 0, 3, 173, 312, 136, 66, 1294, 169, 68, 179, 23, 5, 104, 691, 691, 0, 13, 678, 1261, 570, 166, 2291, 200, 34, 73, 0, 0, 10, 929, 927, 0, 22, 707, 2297, 1366, 6, 1073, 0, 22, 423, 31, 1, 6, 548, 548, 0, 7, 541, 1106, 558, 28, 363, 0, 8, 165, 12, 0, 10, 209, 209, 0, 5, 204, 353, 144, 11, 199, 0, 5, 89, 7, 0, 4, 113, 113, 0, 6, 107, 392, 909, 7, 2771, 167, 28, 533, 144, 3, 20, 1160, 1158, 2, 25, 1133, 2771, 1611, 167, 2355, 77, 37, 206, 22, 1, 4, 949, 949, 0, 15, 934, 2362, 1473, 73, 1000, 82, 23, 262, 103, 4, 61, 641, 691, 0, 13, 628, 1209, 568, 114, 1417, 64, 10, 76, 37, 5, 6, 787, 787, 0, 23, 764, 1425, 638, 553, 1140, 76, 31, 131, 22, 0, 13, 593, 593, 0, 12, 581, 1155, 562, 290, 366, 22, 13, 29, 30, 0, 1, 209, 209, 0, 3, 206, 366, 157, 100, 205, 2, 6, 60, 15, 5000, 2, 111, 111, 0, 1, 110, 725, 114, 17, 2008, 105, 94, 440, 92, 3, 4, 984, 984, 0, 24, 960, 2036, 1052, 220, 246, 10, 7, 52, 33, 0, 5, 152, 152, 0, 5, 147, 203, 51, 41, 260, 18, 8, 20, 42, 0, 7, 144, 144, 0, 5, 139, 213, 69, 31, 643, 6, 16, 214, 28, 0, 5, 345, 345, 0, 6, 339, 647, 302, 62, 1405, 66, 24, 183, 59, 9, 0, 628, 628, 0, 21, 607, 1398, 770, 187, 1684, 85, 30, 164, 108, 5, 15, 680, 680, 0, 16, 664, 1708, 1028, 236, 1440, 73, 30, 157, 82, 2, 8, 679, 679, 50, 16, 663, 1448, 769, 281, 551, 8, 0, 69, 48, 0, 34, 287, 287, 0, 17, 270, 552, 265, 121, 5840, 2200, 1700, 8300, 4500, 0, 7008, 2918, 2910, 88, 1308, 2780, 5820, 2918, 8700, 1711, 78, 27, 339, 87, 5, 10, 735, 735, 0, 19, 716, 1711, 976, 98, 443, 57, 8, 40, 13, 1, 7, 254, 254, 0, 8, 254, 452, 198, 116, 878, 22, 882, 840, 18, 8800, 1, 162, 162, 0, 4, 158, 238, 70, 873, 0, 37, 803, 817, 15, 8800, 6, 169, 169, 0, 4, 5165, 254, 85, 87, 1369, 68, 14, 70, 88, 0, 4, 688, 688, 0, 21, 664, 1272, 584, 459, 961, 76, 15, 92, 88, 1, 3, 428, 428, 0, 80, 18, 962, 554, 125, 265, 25, 4, 14, 51, 0, 9, 152, 152, 0, 5, 147, 270, 118, 42, 374, 50, 10, 31, 15, 0, 5, 194, 194, 3, 10, 184, 377, 183, 64, 2074, 3, 50, 5500, 50, 0, 4, 1117, 3133, 0, 20, 1132, 2674, 1497, 0, 0, 0, 8007, 7, 5507, 1, 8000, 0, 0, 0, 0, 800, 0, 5, 0, 2502, 245, 47, 309, 53, 15, 18, 1071, 1071, 0, 23, 1049, 2511, 1440, 192, 2186, 153, 24, 22, 87, 0, 19, 924, 980, 0, 81, 903, 2186, 1262, 120, 2022, 219, 50, 255, 36, 2, 6, 927, 927, 0, 37, 890, 2038, 1111, 185, 2163, 157, 39, 172, 140, 7, 4, 997, 997, 0, 38, 959, 2180, 1183, 375, 196, 7, 1, 18, 11, 1, 10, 77, 77, 0, 0, 97, 126, 49, 30, 910, 2, 24, 348, 62, 3, 42, 536, 536, 80, 10, 526, 913, 377, 57, 1126, 4, 30, 335, 67, 2, 25, 557, 557, 0, 4, 553, 1126, 569, 82, 54, 0, 3, 9, 9, 0, 3, 26, 26, 0, 1, 25, 54, 28, 4, 221, 0, 6, 47, 21, 0, 4, 98, 98, 0, 2, 6, 221, 123, 15, 1576, 23, 19, 147, 126, 3, 3, 790, 790, 0, 9, 781, 1566, 776, 314, 637, 3, 9, 79, 34, 2, 6, 338, 338, 0, 11, 322, 645, 307, 53, 7378, 159, 44, 238, 105, 6, 4, 1047, 1047, 0, 22, 1025, 2382, 1333, 381, 1571, 92, 24, 291, 77, 5, 93, 703, 703, 0, 12, 691, 1577, 868, 109, 810, 15, 0, 110, 112, 1, 0, 380, 380, 0, 11, 369, 803, 423, 830, 462, 24, 10, 60, 29, 0, 1, 828, 228, 0, 8, 220, 462, 231, 93, 2993, 227, 47, 265, 161, 4, 11, 1392, 1392, 0, 25, 1364, 2996, 1604, 543, 1169, 5, 6, 256, 55, 1, 0, 452, 452, 0, 10, 442, 1177, 725, 55, 0, 60, 770, 0, 4740, 0, 813, 4, 310, 380, 0, 0, 0, 0, 0, 49, 1, 2, 5, 2, 1, 12, 35, 35, 0, 3, 32, 49, 14, 8, 1241, 121, 16, 113, 108, 2, 5, 614, 614, 0, 15, 599, 1252, 638, 169, 1291, 72, 28, 171, 62, 2, 5, 644, 544, 0, 24, 619, 1298, 654, 234, 880, 3, 9, 287, 42, 0, 8, 445, 445, 0, 10, 435, 938, 403, 67, 124, 0, 2, 54, 10, 0, 16, 84, 84, 0, 2, 82, 125, 41, 8, 1467, 96, 21, 288, 60, 5, 9, 698, 698, 0, 13, 683, 1431, 733, 127, 1772, 66, 54, 218, 47, 1, 6, 821, 821, 0, 52, 789, 1862, 1041, 350, 885, 87, 19, 142, 44, 83, 5, 459, 459, 80, 82, 457, 895, 8428, 810, 1063, 1, 9, 381, 31, 0, 5, 528, 528, 0, 14, 514, 1067, 539, 38, 303, 0, 3, 103, 18, 0, 4, 167, 167, 0, 5, 162, 329, 162, 18]"
     ]
    },
    {
     "name": "stdout",
     "output_type": "stream",
     "text": [
      "\n"
     ]
    }
   ],
   "source": [
    "print(submision_csv['Expected'].to_list())"
   ]
  },
  {
   "cell_type": "code",
   "execution_count": 62,
   "metadata": {},
   "outputs": [],
   "source": [
    "best = [544, 308, 0, 1344, 118, 118, 42, 178, 1344, 1367, 91, 4, 17, 170, 178, 4, 665, 665, 4, 42, 0, 17, 648, 665, 648, 702, 1367, 702, 91, 170, 0, 1029, 1027, 1029, 117, 117, 21, 150, 21, 2, 150, 4, 2, 21, 237, 602, 34, 602, 4, 425, 0, 568, 34, 602, 568, 1027, 425, 237, 0, 201, 14, 5, 47, 134, 28, 14, 0, 166, 172, 3, 28, 172, 3, 306, 172, 47, 0, 5, 6, 6, 68, 166, 306, 134, 68, 0, 2519, 160, 11, 2048, 1809, 1620, 580, 1380, 55, 3, 160, 5, 2519, 8500, 1200, 3, 354, 1620, 2048, 0, 5, 580, 11, 55, 1809, 8500, 1380, 354, 2823, 271, 57, 581, 109, 7, 12, 1408, 1408, 1, 29, 1379, 2823, 1410, 284, 727, 58, 21, 99, 39, 1, 16, 525, 525, 0, 5, 520, 827, 302, 282, 2609, 93, 60, 472, 830, 3, 12, 1122, 1114, 8, 44, 1070, 2615, 1493, 850, 1071, 151, 25, 121, 66, 0, 5, 621, 621, 0, 10, 611, 1080, 459, 232, 268, 7, 6, 31, 15, 0, 9, 112, 112, 0, 5, 107, 269, 158, 0, 2180, 12, 27, 17, 12, 3, 20, 902, 902, 0, 14, 881, 2202, 1300, 811, 0, 62, 37, 0, 272, 37, 1121, 6, 487, 464, 0, 0, 480, 1106, 0, 1130, 73, 14, 276, 38, 0, 8000, 5200, 5200, 0, 7, 513, 1139, 6190, 80, 1577, 107, 25, 240, 132, 0, 11, 710, 720, 0, 15, 705, 1589, 869, 167, 6220, 5100, 1400, 1990, 1300, 0, 1600, 2920, 2920, 0, 1300, 2790, 6430, 3510, 7900, 615, 33, 6, 68, 80, 1, 2, 370, 370, 0, 10, 360, 623, 253, 161, 544, 4, 16, 33, 26, 0, 5, 353, 353, 0, 7, 346, 546, 193, 58, 2069, 146, 22, 479, 62, 4, 4, 982, 982, 0, 20, 962, 2085, 1103, 209, 799, 81, 16, 68, 65, 1, 7, 493, 493, 0, 12, 481, 811, 318, 231, 640, 37, 9, 87, 39, 2, 5, 354, 353, 1, 8, 345, 547, 193, 189, 1327, 101, 28, 7, 30, 0, 8, 843, 843, 0, 30, 813, 1352, 509, 132, 2261, 8, 30, 0, 0, 0, 30, 1188, 1173, 15, 20, 1153, 2276, 1081, 0, 1605, 21, 9, 513, 64, 0, 39, 813, 873, 0, 9, 864, 1605, 732, 132, 438, 0, 2, 47, 13, 0, 1, 240, 240, 0, 7, 233, 440, 200, 20, 1133, 101, 28, 87, 41, 4, 3, 706, 706, 0, 81, 625, 1140, 434, 329, 1053, 146, 10, 94, 57, 0, 5, 580, 580, 0, 15, 565, 1053, 473, 245, 2997, 14, 4, 1, 30, 1, 0, 148, 149, 0, 1, 147, 290, 148, 42, 850, 45, 21, 61, 126, 0, 3, 479, 479, 0, 19, 460, 876, 397, 196, 1490, 106, 835, 313, 83, 8114, 104, 1028, 1028, 8000, 15, 1080, 2160, 1071, 230, 133, 2, 3, 38, 13, 0, 1, 85, 85, 0, 1, 4, 120, 39, 26, 834, 23, 27, 100, 24, 1, 1, 446, 446, 0, 12, 434, 834, 388, 140, 300, 2, 6, 62, 128, 0, 0, 261, 261, 0, 5, 256, 399, 138, 56, 99, 1006, 13, 68, 19, 9, 2, 586, 586, 0, 11, 575, 36, 550, 422, 1501, 14, 24, 408, 96, 0, 2, 820, 820, 0, 19, 801, 1493, 673, 232, 2059, 124, 16, 94, 29, 2, 8, 702, 701, 0, 11, 690, 2259, 1558, 412, 961, 25, 33, 160, 125, 1, 6, 567, 67, 0, 14, 553, 973, 400, 193, 360, 7, 27, 250, 27, 0, 5, 555, 555, 0, 19, 536, 863, 308, 220, 526, 122, 53, 162, 46, 1, 3, 979, 979, 0, 25, 954, 2538, 1559, 549, 763, 3, 9, 42, 71, 3, 5, 481, 431, 0, 15, 416, 764, 333, 127, 3055, 150, 49, 662, 122, 2, 9, 1341, 1341, 0, 44, 1297, 3000, 1659, 257, 953, 44, 27, 157, 66, 2, 4, 572, 572, 0, 14, 558, 976, 404, 251, 209, 1, 3, 113, 12, 0, 11, 52, 152, 0, 5, 147, 211, 59, 18, 1479, 75, 30, 746, 93, 3, 7, 872, 872, 0, 20, 852, 1488, 616, 378, 1062, 49, 15, 69, 98, 3, 6, 493, 485, 8, 15, 470, 1083, 590, 236, 1210, 110, 25, 111, 27, 880, 7, 660, 660, 0, 6, 650, 1222, 562, 364, 610, 64, 15, 57, 35, 3, 9, 368, 368, 0, 10, 358, 602, 234, 172, 11, 46, 22, 132, 13, 2, 0, 618, 619, 0, 4008, 610, 983, 365, 241, 1073, 85, 43, 380, 41, 8, 13, 882, 710, 0, 19, 763, 1580, 808, 0, 1030, 4, 19, 442, 42, 1, 5, 629, 629, 0, 12, 617, 1037, 408, 85, 1537, 7, 38, 320, 16, 0, 3, 747, 747, 0, 14, 733, 1555, 808, 65, 2, 1810, 3600, 4370, 7100, 3000, 1800, 9710, 9710, 0, 8000, 9510, 2372, 1401, 350, 1081, 47, 19, 165, 58, 2, 12, 578, 578, 0, 13, 565, 1181, 603, 248, 1551, 54, 51, 120, 69, 4, 0, 720, 180, 0, 10, 770, 1511, 732, 34, 2309, 171, 63, 179, 113, 1, 1, 1087, 1087, 0, 31, 1056, 2331, 1244, 497, 1092, 62, 12, 34, 4, 3, 9, 638, 638, 0, 10, 628, 1108, 470, 493, 983, 68, 13, 82, 18, 0, 9, 24, 523, 1, 12, 517, 995, 471, 311, 3163, 140, 45, 824, 115, 1, 73, 1494, 1494, 0, 33, 1461, 3283, 1789, 210, 410, 232, 2004, 49, 502, 1, 69, 6278, 378, 806, 4, 6274, 485, 318, 165, 300, 0, 2, 102, 6, 0, 0, 147, 147, 0, 7, 140, 307, 160, 25, 1742, 97, 26, 376, 32, 4, 3, 734, 739, 0, 8, 731, 1742, 1003, 168, 2244, 180, 49, 321, 101, 4, 2, 1136, 1136, 0, 19, 1117, 2297, 1161, 409, 436, 0, 8, 78, 0, 0, 5, 237, 237, 0, 7, 230, 435, 198, 6, 104, 13, 11, 68, 11, 0, 0, 237, 237, 3000, 10, 227, 483, 246, 59, 311, 15, 8, 50, 14, 1, 1, 136, 136, 0, 2, 134, 307, 171, 43, 225, 1015, 5, 1026, 4, 1, 3, 188, 188, 0, 6008, 180, 6332, 144, 111, 1512, 104, 60, 327, 81, 8, 4, 103, 1193, 0, 31, 1162, 2520, 1328, 150, 1446, 38, 38, 823, 31, 1, 13, 696, 696, 0, 26, 670, 1446, 752, 337, 613, 10, 2, 120, 16, 2, 2, 291, 291, 0, 8, 283, 607, 316, 108, 139, 6, 0, 15, 4, 0, 4, 88, 88, 0, 0, 88, 142, 54, 38, 951, 33, 24, 161, 155, 0, 503, 520, 620, 0, 9, 511, 947, 427, 115, 9040, 2800, 1700, 1575, 7850, 50, 1100, 4100, 4200, 0, 9000, 4203, 4255, 4860, 1160, 1138, 6111, 36, 430, 43, 3, 7, 703, 903, 0, 15, 358, 2140, 1237, 157, 5080, 4000, 1000, 915, 1300, 0, 1205, 2700, 2700, 500, 9000, 2610, 5350, 2650, 3400, 170, 3000, 2100, 1690, 9600, 4000, 1600, 5490, 5490, 0, 9000, 5400, 770, 3260, 2010, 938, 24, 19, 242, 38, 0, 4, 485, 485, 30, 18, 467, 980, 495, 110, 386, 9, 10, 68, 34, 3, 1, 192, 192, 0, 3, 189, 386, 194, 59, 1769, 111, 30, 501, 48, 3, 2, 833, 833, 0, 23, 6708, 1772, 935, 430, 662, 24, 5, 102, 1, 1, 1, 319, 319, 0, 15, 304, 669, 350, 148, 1144, 23, 47, 332, 41, 6001, 3, 593, 593, 0, 16, 577, 1228, 635, 97, 1033, 121, 48, 200, 28, 8, 4, 749, 744, 0, 19, 730, 1593, 780, 199, 1200, 139, 43, 374, 29, 6, 0, 0, 400, 0, 0, 423, 100, 490, 305, 2624, 136, 48, 393, 138, 7, 4, 1007, 1047, 0, 33, 1001, 2630, 1533, 299, 23, 73, 0, 700, 0, 3, 0, 2003, 1303, 80, 23, 1300, 3004, 1832, 0, 2354, 1000, 1004, 4, 41, 504, 31, 7, 2804, 0, 32, 112, 354, 1850, 11, 2415, 228, 61, 45, 34, 4, 6, 1154, 1154, 0, 81, 1127, 2413, 1259, 380, 2952, 195, 73, 385, 55, 21, 9, 1198, 1198, 0, 26, 1172, 2953, 1755, 323, 1253, 166, 59, 119, 5, 3, 7, 630, 30, 0, 17, 613, 1258, 628, 117, 1776, 142, 61, 218, 35, 7, 5, 718, 718, 6200, 32, 686, 8781, 1063, 155, 743, 3, 18, 259, 44, 3, 1, 397, 397, 0, 7, 390, 743, 346, 32, 1305, 70, 19, 288, 47, 0, 2, 764, 764, 0, 31, 733, 1313, 549, 290, 450, 18, 5, 48, 23, 2, 5, 285, 285, 0, 2, 283, 438, 153, 180, 617, 41, 22, 230, 31, 1, 2, 355, 355, 800, 8, 347, 630, 275, 195, 308, 15, 5, 34, 11, 0, 2, 161, 161, 0, 3, 152, 300, 138, 2, 1115, 49, 32, 46, 68, 2, 6, 820, 420, 0, 13, 403, 1927, 1102, 0, 2104, 119, 34, 241, 20, 0, 608, 1074, 1074, 0, 22, 1052, 2104, 1020, 506, 78, 3, 3, 8, 2, 3, 11, 52, 52, 0, 3, 49, 78, 26, 33, 400, 6, 0, 108, 3, 0, 10, 245, 245, 0, 8, 237, 400, 155, 43, 889, 97, 21, 97, 41, 0, 506, 456, 496, 0, 7, 479, 531, 435, 215, 1177, 65, 19, 189, 0, 0, 1, 599, 593, 0, 8, 585, 1177, 584, 211, 76, 0, 1, 24, 5, 0, 0, 47, 47, 0, 1, 46, 76, 29, 10, 165, 3, 3, 55, 17, 1, 15, 611, 111, 6000, 1, 110, 160, 50, 22, 159, 0, 3, 39, 15, 0, 3, 42, 92, 0, 0, 92, 153, 61, 32, 2907, 107, 48, 710, 239, 3, 19, 1986, 1386, 0, 27, 1359, 3004, 1618, 179, 184, 222, 0, 1, 1, 10, 12, 109, 169, 0, 3, 106, 185, 2080, 218, 281, 4, 7, 57, 21, 0, 6, 176, 176, 0, 3, 173, 312, 136, 66, 1294, 169, 68, 179, 23, 5, 104, 691, 691, 0, 13, 678, 1261, 570, 166, 2291, 200, 34, 73, 0, 0, 10, 929, 927, 0, 22, 707, 2297, 1366, 6, 1073, 0, 22, 423, 31, 1, 6, 548, 548, 0, 7, 541, 1106, 558, 28, 363, 0, 8, 165, 12, 0, 10, 209, 209, 0, 5, 204, 353, 144, 11, 199, 0, 5, 89, 7, 0, 4, 113, 113, 0, 6, 107, 392, 909, 7, 2771, 167, 28, 533, 144, 3, 20, 1160, 1158, 2, 25, 1133, 2771, 1611, 167, 2355, 77, 37, 206, 22, 1, 4, 949, 949, 0, 15, 934, 2362, 1473, 73, 1000, 82, 23, 262, 103, 4, 61, 641, 691, 0, 13, 628, 1209, 568, 114, 1417, 64, 10, 76, 37, 5, 6, 787, 787, 0, 23, 764, 1425, 638, 553, 1140, 76, 31, 131, 22, 0, 13, 593, 593, 0, 12, 581, 1155, 562, 290, 366, 22, 13, 29, 30, 0, 1, 209, 209, 0, 3, 206, 366, 157, 100, 205, 2, 6, 60, 15, 5000, 2, 111, 111, 0, 1, 110, 725, 114, 17, 2008, 105, 94, 440, 92, 3, 4, 984, 984, 0, 24, 960, 2036, 1052, 220, 246, 10, 7, 52, 33, 0, 5, 152, 152, 0, 5, 147, 203, 51, 41, 260, 18, 8, 20, 42, 0, 7, 144, 144, 0, 5, 139, 213, 69, 31, 643, 6, 16, 214, 28, 0, 5, 345, 345, 0, 6, 339, 647, 302, 62, 1405, 66, 24, 183, 59, 9, 0, 628, 628, 0, 21, 607, 1398, 770, 187, 1684, 85, 30, 164, 108, 5, 15, 680, 680, 0, 16, 664, 1708, 1028, 236, 1440, 73, 30, 157, 82, 2, 8, 679, 679, 50, 16, 663, 1448, 769, 281, 551, 8, 0, 69, 48, 0, 34, 287, 287, 0, 17, 270, 552, 265, 121, 5840, 2200, 1700, 8300, 4500, 0, 7008, 2918, 2910, 88, 1308, 2780, 5820, 2918, 8700, 1711, 78, 27, 339, 87, 5, 10, 735, 735, 0, 19, 716, 1711, 976, 98, 443, 57, 8, 40, 13, 1, 7, 254, 254, 0, 8, 254, 452, 198, 116, 878, 22, 882, 840, 18, 8800, 1, 162, 162, 0, 4, 158, 238, 70, 873, 0, 37, 803, 817, 15, 8800, 6, 169, 169, 0, 4, 5165, 254, 85, 87, 1369, 68, 14, 70, 88, 0, 4, 688, 688, 0, 21, 664, 1272, 584, 459, 961, 76, 15, 92, 88, 1, 3, 428, 428, 0, 80, 18, 962, 554, 125, 265, 25, 4, 14, 51, 0, 9, 152, 152, 0, 5, 147, 270, 118, 42, 374, 50, 10, 31, 15, 0, 5, 194, 194, 3, 10, 184, 377, 183, 64, 2074, 3, 50, 5500, 50, 0, 4, 1117, 3133, 0, 20, 1132, 2674, 1497, 0, 0, 0, 8007, 7, 5507, 1, 8000, 0, 0, 0, 0, 800, 0, 5, 0, 2502, 245, 47, 309, 53, 15, 18, 1071, 1071, 0, 23, 1049, 2511, 1440, 192, 2186, 153, 24, 22, 87, 0, 19, 924, 980, 0, 81, 903, 2186, 1262, 120, 2022, 219, 50, 255, 36, 2, 6, 927, 927, 0, 37, 890, 2038, 1111, 185, 2163, 157, 39, 172, 140, 7, 4, 997, 997, 0, 38, 959, 2180, 1183, 375, 196, 7, 1, 18, 11, 1, 10, 77, 77, 0, 0, 97, 126, 49, 30, 910, 2, 24, 348, 62, 3, 42, 536, 536, 80, 10, 526, 913, 377, 57, 1126, 4, 30, 335, 67, 2, 25, 557, 557, 0, 4, 553, 1126, 569, 82, 54, 0, 3, 9, 9, 0, 3, 26, 26, 0, 1, 25, 54, 28, 4, 221, 0, 6, 47, 21, 0, 4, 98, 98, 0, 2, 6, 221, 123, 15, 1576, 23, 19, 147, 126, 3, 3, 790, 790, 0, 9, 781, 1566, 776, 314, 637, 3, 9, 79, 34, 2, 6, 338, 338, 0, 11, 322, 645, 307, 53, 7378, 159, 44, 238, 105, 6, 4, 1047, 1047, 0, 22, 1025, 2382, 1333, 381, 1571, 92, 24, 291, 77, 5, 93, 703, 703, 0, 12, 691, 1577, 868, 109, 810, 15, 0, 110, 112, 1, 0, 380, 380, 0, 11, 369, 803, 423, 830, 462, 24, 10, 60, 29, 0, 1, 828, 228, 0, 8, 220, 462, 231, 93, 2993, 227, 47, 265, 161, 4, 11, 1392, 1392, 0, 25, 1364, 2996, 1604, 543, 1169, 5, 6, 256, 55, 1, 0, 452, 452, 0, 10, 442, 1177, 725, 55, 0, 60, 770, 0, 4740, 0, 813, 4, 310, 380, 0, 0, 0, 0, 0, 49, 1, 2, 5, 2, 1, 12, 35, 35, 0, 3, 32, 49, 14, 8, 1241, 121, 16, 113, 108, 2, 5, 614, 614, 0, 15, 599, 1252, 638, 169, 1291, 72, 28, 171, 62, 2, 5, 644, 544, 0, 24, 619, 1298, 654, 234, 880, 3, 9, 287, 42, 0, 8, 445, 445, 0, 10, 435, 938, 403, 67, 124, 0, 2, 54, 10, 0, 16, 84, 84, 0, 2, 82, 125, 41, 8, 1467, 96, 21, 288, 60, 5, 9, 698, 698, 0, 13, 683, 1431, 733, 127, 1772, 66, 54, 218, 47, 1, 6, 821, 821, 0, 52, 789, 1862, 1041, 350, 885, 87, 19, 142, 44, 83, 5, 459, 459, 80, 82, 457, 895, 8428, 810, 1063, 1, 9, 381, 31, 0, 5, 528, 528, 0, 14, 514, 1067, 539, 38, 303, 0, 3, 103, 18, 0, 4, 167, 167, 0, 5, 162, 329, 162, 18]"
   ]
  },
  {
   "cell_type": "code",
   "execution_count": 140,
   "metadata": {},
   "outputs": [],
   "source": [
    "submision_csv.to_csv(\"test.csv\",index=False)"
   ]
  },
  {
   "cell_type": "code",
   "execution_count": 714,
   "metadata": {},
   "outputs": [],
   "source": [
    "#torch.save(network.state_dict(), \"./best_model.pth\")"
   ]
  },
  {
   "cell_type": "code",
   "execution_count": 94,
   "metadata": {
    "scrolled": true
   },
   "outputs": [],
   "source": [
    "submision_csv = pd.read_csv(\"test.csv\")"
   ]
  },
  {
   "cell_type": "code",
   "execution_count": 63,
   "metadata": {},
   "outputs": [
    {
     "name": "stdout",
     "output_type": "stream",
     "text": [
      "Index  4  diff  418 118\n",
      "Index  31  diff  1079 1029\n",
      "Index  59  diff  106 201\n",
      "Index  69  diff  8 3\n",
      "Index  72  diff  0 3\n",
      "Index  87  diff  162 160\n",
      "Index  89  diff  48 2048\n",
      "Index  91  diff  1220 1620\n",
      "Index  92  diff  510 580\n",
      "Index  94  diff  65 55\n",
      "Index  96  diff  162 160\n",
      "Index  99  diff  500 8500\n",
      "Index  100  diff  1280 1200\n",
      "Index  103  diff  1880 1620\n",
      "Index  104  diff  48 2048\n",
      "Index  107  diff  500 580\n",
      "Index  111  diff  8570 8500\n",
      "Index  116  diff  51 57\n",
      "Index  123  diff  0 1\n",
      "Index  127  diff  1415 1410\n",
      "Index  129  diff  827 727\n",
      "Index  146  diff  61 60\n",
      "Index  148  diff  30 830\n",
      "Index  158  diff  230 850\n",
      "Index  167  diff  7621 621\n",
      "Index  177  diff  1 31\n",
      "Index  178  diff  45 15\n",
      "Index  185  diff  104 107\n",
      "Index  186  diff  169 269\n",
      "Index  188  diff  47 0\n",
      "Index  192  diff  717 17\n",
      "Index  193  diff  32 12\n",
      "Index  200  diff  888 881\n",
      "Index  203  diff  17 811\n",
      "Index  206  diff  88 37\n",
      "Index  207  diff  800 0\n",
      "Index  212  diff  1487 487\n",
      "Index  213  diff  487 464\n",
      "Index  217  diff  1140 1106\n",
      "Index  220  diff  43 73\n",
      "Index  232  diff  6195 6190\n",
      "Index  241  diff  720 710\n",
      "Index  243  diff  5 0\n",
      "Index  244  diff  13 15\n",
      "Index  249  diff  6230 6220\n",
      "Index  250  diff  3100 5100\n",
      "Index  256  diff  2020 2920\n",
      "Index  260  diff  2793 2790\n",
      "Index  264  diff  625 615\n",
      "Index  265  diff  53 33\n",
      "Index  267  diff  67 68\n",
      "Index  273  diff  10 0\n",
      "Index  282  diff  233 33\n",
      "Index  297  diff  179 479\n",
      "Index  300  diff  24 4\n",
      "Index  301  diff  82 982\n",
      "Index  308  diff  208 209\n",
      "Index  323  diff  235 231\n",
      "Index  327  diff  67 87\n",
      "Index  328  diff  79 39\n",
      "Index  336  diff  647 547\n",
      "Index  340  diff  1 101\n",
      "Index  341  diff  20 28\n",
      "Index  342  diff  147 7\n",
      "Index  343  diff  20 30\n",
      "Index  350  diff  718 813\n",
      "Index  355  diff  757 8\n",
      "Index  356  diff  5077 30\n",
      "Index  357  diff  5000 0\n",
      "Index  358  diff  5070 0\n",
      "Index  359  diff  7575 0\n",
      "Index  368  diff  5705 0\n",
      "Index  371  diff  25 9\n",
      "Index  372  diff  382 513\n",
      "Index  377  diff  173 873\n",
      "Index  383  diff  730 132\n",
      "Index  385  diff  5 0\n",
      "Index  388  diff  17 13\n",
      "Index  390  diff  6 1\n",
      "Index  410  diff  621 625\n",
      "Index  411  diff  1170 1140\n",
      "Index  417  diff  4 94\n",
      "Index  427  diff  476 473\n",
      "Index  429  diff  2890 2997\n",
      "Index  435  diff  2 0\n",
      "Index  442  diff  142 148\n",
      "Index  443  diff  72 42\n",
      "Index  444  diff  950 850\n",
      "Index  459  diff  2980 1490\n",
      "Index  461  diff  6030 835\n",
      "Index  464  diff  114 8114\n",
      "Index  465  diff  124 104\n",
      "Index  466  diff  6029 1028\n",
      "Index  467  diff  1027 1028\n",
      "Index  468  diff  5010 8000\n",
      "Index  469  diff  5715 15\n",
      "Index  470  diff  1070 1080\n",
      "Index  471  diff  2167 2160\n",
      "Index  472  diff  1073 1071\n",
      "Index  474  diff  113 133\n",
      "Index  480  diff  2 1\n",
      "Index  485  diff  84 4\n",
      "Index  486  diff  527 120\n",
      "Index  490  diff  33 23\n",
      "Index  492  diff  160 100\n",
      "Index  493  diff  74 24\n",
      "Index  494  diff  0 1\n",
      "Index  503  diff  849 140\n",
      "Index  509  diff  5 0\n",
      "Index  510  diff  62 0\n",
      "Index  511  diff  361 261\n",
      "Index  513  diff  70 0\n",
      "Index  514  diff  85 5\n",
      "Index  516  diff  390 399\n",
      "Index  520  diff  2049 1006\n",
      "Index  521  diff  10 13\n",
      "Index  525  diff  7 2\n",
      "Index  531  diff  236 36\n",
      "Index  532  diff  950 550\n",
      "Index  533  diff  5422 422\n",
      "Index  549  diff  2050 2059\n",
      "Index  555  diff  6 8\n",
      "Index  556  diff  701 702\n",
      "Index  566  diff  223 33\n",
      "Index  568  diff  825 125\n",
      "Index  571  diff  667 567\n",
      "Index  572  diff  567 67\n",
      "Index  574  diff  714 14\n",
      "Index  577  diff  708 400\n",
      "Index  578  diff  243 193\n",
      "Index  579  diff  64 360\n",
      "Index  582  diff  259 250\n",
      "Index  584  diff  7 0\n",
      "Index  592  diff  808 308\n",
      "Index  607  diff  1659 1559\n",
      "Index  612  diff  47 42\n",
      "Index  613  diff  41 71\n",
      "Index  616  diff  461 481\n",
      "Index  617  diff  437 431\n",
      "Index  623  diff  727 127\n",
      "Index  627  diff  62 662\n",
      "Index  658  diff  82 12\n",
      "Index  661  diff  850 52\n",
      "Index  662  diff  252 152\n",
      "Index  672  diff  748 746\n",
      "Index  676  diff  876 872\n",
      "Index  692  diff  885 485\n",
      "Index  695  diff  471 470\n",
      "Index  697  diff  580 590\n",
      "Index  703  diff  527 27\n",
      "Index  704  diff  50 880\n",
      "Index  707  diff  650 660\n",
      "Index  710  diff  657 650\n",
      "Index  712  diff  567 562\n",
      "Index  713  diff  367 364\n",
      "Index  718  diff  33 35\n",
      "Index  721  diff  308 368\n",
      "Index  731  diff  622 22\n",
      "Index  732  diff  136 132\n",
      "Index  735  diff  109 0\n",
      "Index  739  diff  8 4008\n",
      "Index  743  diff  41 241\n",
      "Index  744  diff  1373 1073\n",
      "Index  745  diff  82 85\n",
      "Index  747  diff  373 380\n",
      "Index  749  diff  23 8\n",
      "Index  750  diff  2203 13\n",
      "Index  751  diff  782 882\n",
      "Index  752  diff  787 710\n",
      "Index  757  diff  807 808\n",
      "Index  758  diff  335 0\n",
      "Index  762  diff  448 442\n",
      "Index  763  diff  12 42\n",
      "Index  776  diff  28 38\n",
      "Index  777  diff  220 320\n",
      "Index  778  diff  26 16\n",
      "Index  779  diff  5 0\n",
      "Index  783  diff  7 0\n",
      "Index  789  diff  2032 2\n",
      "Index  790  diff  1010 1810\n",
      "Index  793  diff  105 7100\n",
      "Index  799  diff  2003 8000\n",
      "Index  800  diff  9610 9510\n",
      "Index  803  diff  2350 350\n",
      "Index  811  diff  576 578\n",
      "Index  819  diff  1501 1551\n",
      "Index  825  diff  5 0\n",
      "Index  827  diff  720 180\n",
      "Index  830  diff  771 770\n",
      "Index  831  diff  1516 1511\n",
      "Index  832  diff  707 732\n",
      "Index  833  diff  4 34\n",
      "Index  834  diff  2109 2309\n",
      "Index  850  diff  12 62\n",
      "Index  852  diff  39 34\n",
      "Index  860  diff  627 628\n",
      "Index  865  diff  58 68\n",
      "Index  868  diff  6018 18\n",
      "Index  871  diff  524 24\n",
      "Index  882  diff  24 824\n",
      "Index  894  diff  449 410\n",
      "Index  895  diff  53 232\n",
      "Index  896  diff  4 2004\n",
      "Index  897  diff  48 49\n",
      "Index  898  diff  2 502\n",
      "Index  900  diff  9 69\n",
      "Index  901  diff  178 6278\n",
      "Index  902  diff  278 378\n",
      "Index  903  diff  22 806\n",
      "Index  905  diff  874 6274\n",
      "Index  906  diff  480 485\n",
      "Index  907  diff  211 318\n",
      "Index  909  diff  200 300\n",
      "Index  915  diff  1000 0\n",
      "Index  917  diff  177 147\n",
      "Index  922  diff  150 160\n",
      "Index  931  diff  739 734\n",
      "Index  935  diff  331 731\n",
      "Index  939  diff  2209 2244\n",
      "Index  940  diff  100 180\n",
      "Index  953  diff  709 409\n",
      "Index  962  diff  232 237\n",
      "Index  969  diff  474 104\n",
      "Index  970  diff  14 13\n",
      "Index  972  diff  60 68\n",
      "Index  975  diff  5 0\n",
      "Index  978  diff  0 3000\n",
      "Index  984  diff  211 311\n",
      "Index  996  diff  807 307\n",
      "Index  999  diff  325 225\n",
      "Index  1000  diff  25 1015\n",
      "Index  1002  diff  36 1026\n",
      "Index  1003  diff  2004 4\n",
      "Index  1005  diff  5003 3\n",
      "Index  1006  diff  168 188\n",
      "Index  1009  diff  8 6008\n",
      "Index  1011  diff  333 6332\n",
      "Index  1015  diff  194 104\n",
      "Index  1016  diff  40 60\n",
      "Index  1018  diff  61 81\n",
      "Index  1020  diff  1 4\n",
      "Index  1021  diff  1103 103\n",
      "Index  1022  diff  1103 1193\n",
      "Index  1027  diff  1327 1328\n",
      "Index  1028  diff  450 150\n",
      "Index  1030  diff  31 38\n",
      "Index  1031  diff  2 38\n",
      "Index  1032  diff  123 823\n",
      "Index  1033  diff  71 31\n",
      "Index  1036  diff  686 696\n",
      "Index  1041  diff  446 1446\n",
      "Index  1042  diff  1752 752\n",
      "Index  1043  diff  237 337\n",
      "Index  1045  diff  11 10\n",
      "Index  1059  diff  133 139\n",
      "Index  1061  diff  1 0\n",
      "Index  1062  diff  4125 15\n",
      "Index  1063  diff  14 4\n",
      "Index  1064  diff  4000 0\n",
      "Index  1065  diff  9 4\n",
      "Index  1073  diff  21 38\n",
      "Index  1089  diff  7045 9040\n",
      "Index  1090  diff  7655 2800\n",
      "Index  1091  diff  2700 1700\n",
      "Index  1092  diff  1535 1575\n",
      "Index  1093  diff  7955 7850\n",
      "Index  1094  diff  55 50\n",
      "Index  1095  diff  1102 1100\n",
      "Index  1096  diff  4895 4100\n",
      "Index  1097  diff  4292 4200\n",
      "Index  1100  diff  4201 4203\n",
      "Index  1102  diff  4865 4860\n",
      "Index  1103  diff  1167 1160\n",
      "Index  1104  diff  2138 1138\n",
      "Index  1105  diff  121 6111\n",
      "Index  1106  diff  6 36\n",
      "Index  1107  diff  130 430\n",
      "Index  1115  diff  998 358\n",
      "Index  1118  diff  154 157\n",
      "Index  1119  diff  5082 5080\n",
      "Index  1120  diff  4150 4000\n",
      "Index  1121  diff  1001 1000\n",
      "Index  1122  diff  4355 915\n",
      "Index  1123  diff  1550 1300\n",
      "Index  1125  diff  1255 1205\n",
      "Index  1126  diff  2705 2700\n",
      "Index  1127  diff  2705 2700\n",
      "Index  1128  diff  5 500\n",
      "Index  1129  diff  9550 9000\n",
      "Index  1131  diff  5355 5350\n",
      "Index  1132  diff  2651 2650\n",
      "Index  1134  diff  3772 170\n",
      "Index  1135  diff  7055 3000\n",
      "Index  1136  diff  2155 2100\n",
      "Index  1137  diff  1090 1690\n",
      "Index  1138  diff  3050 9600\n",
      "Index  1139  diff  4505 4000\n",
      "Index  1140  diff  1050 1600\n",
      "Index  1144  diff  3055 9000\n",
      "Index  1145  diff  5442 5400\n",
      "Index  1146  diff  2775 770\n",
      "Index  1147  diff  3285 3260\n",
      "Index  1153  diff  28 38\n",
      "Index  1158  diff  0 30\n",
      "Index  1161  diff  480 980\n",
      "Index  1162  diff  496 495\n",
      "Index  1163  diff  10 110\n",
      "Index  1178  diff  57 59\n",
      "Index  1179  diff  1764 1769\n",
      "Index  1182  diff  120 501\n",
      "Index  1183  diff  148 48\n",
      "Index  1185  diff  5002 2\n",
      "Index  1186  diff  33 833\n",
      "Index  1187  diff  837 833\n",
      "Index  1189  diff  25 23\n",
      "Index  1190  diff  6808 6708\n",
      "Index  1192  diff  939 935\n",
      "Index  1193  diff  730 430\n",
      "Index  1196  diff  15 5\n",
      "Index  1197  diff  2 102\n",
      "Index  1198  diff  4 1\n",
      "Index  1205  diff  204 304\n",
      "Index  1208  diff  9048 148\n",
      "Index  1210  diff  1073 23\n",
      "Index  1212  diff  232 332\n",
      "Index  1214  diff  1 6001\n",
      "Index  1227  diff  260 200\n",
      "Index  1232  diff  749 744\n",
      "Index  1247  diff  713 400\n",
      "Index  1248  diff  130 0\n",
      "Index  1249  diff  30 0\n",
      "Index  1250  diff  723 423\n",
      "Index  1251  diff  4743 100\n",
      "Index  1252  diff  91 490\n",
      "Index  1256  diff  18 48\n",
      "Index  1260  diff  9 4\n",
      "Index  1261  diff  1047 1007\n",
      "Index  1262  diff  1097 1047\n",
      "Index  1266  diff  2030 2630\n",
      "Index  1267  diff  8633 1533\n",
      "Index  1269  diff  87 23\n",
      "Index  1270  diff  171 73\n",
      "Index  1271  diff  70 0\n",
      "Index  1273  diff  3 0\n",
      "Index  1275  diff  20 0\n",
      "Index  1276  diff  2103 2003\n",
      "Index  1277  diff  1393 1303\n",
      "Index  1278  diff  40 80\n",
      "Index  1279  diff  29 23\n",
      "Index  1280  diff  1364 1300\n",
      "Index  1281  diff  213 3004\n",
      "Index  1282  diff  1738 1832\n",
      "Index  1283  diff  501 0\n",
      "Index  1284  diff  7297 2354\n",
      "Index  1285  diff  40 1000\n",
      "Index  1286  diff  1407 1004\n",
      "Index  1287  diff  14 4\n",
      "Index  1288  diff  3047 41\n",
      "Index  1289  diff  1004 504\n",
      "Index  1290  diff  37 31\n",
      "Index  1291  diff  4 7\n",
      "Index  1292  diff  204 2804\n",
      "Index  1293  diff  90 0\n",
      "Index  1294  diff  37 32\n",
      "Index  1295  diff  1112 112\n",
      "Index  1296  diff  2334 354\n",
      "Index  1297  diff  50 1850\n",
      "Index  1298  diff  7107 11\n",
      "Index  1309  diff  27 81\n",
      "Index  1316  diff  83 73\n",
      "Index  1328  diff  320 323\n",
      "Index  1329  diff  1255 1253\n",
      "Index  1330  diff  106 166\n",
      "Index  1331  diff  33 59\n",
      "Index  1333  diff  45 5\n",
      "Index  1337  diff  690 30\n",
      "Index  1342  diff  627 628\n",
      "Index  1343  diff  177 117 1482  diff  161 108\n",
      "Index  1484  diff  1000 0\n",
      "Index  1493  diff  98 43\n",
      "Index  1497  diff  27 97\n",
      "Index  1500  diff  6 506\n",
      "Index  1502  diff  491 496\n",
      "Index  1505  diff  429 479\n",
      "Index  1511  diff  10 19\n",
      "Index  1512  diff  89 189\n",
      "Index  1513  diff  20 0\n",
      "Index  1515  diff  8 1\n",
      "Index  1516  diff  593 599\n",
      "Index  1528  diff  3 5\n",
      "Index  1535  diff  48 46\n",
      "Index  1537  diff  79 29\n",
      "Index  1541  diff  2 3\n",
      "Index  1542  diff  50 55\n",
      "Index  1545  diff  13 15\n",
      "Index  1546  diff  511 611\n",
      "Index  1548  diff  0 6000\n",
      "Index  1551  diff  165 160\n",
      "Index  1552  diff  51 50\n",
      "Index  1556  diff  1003 3\n",
      "Index  1561  diff  92 42\n",
      "Index  1568  diff  30 32\n",
      "Index  1572  diff  10 710\n",
      "Index  1576  diff  1386 1986\n",
      "Index  1584  diff  164 184\n",
      "Index  1585  diff  12 222\n",
      "Index  1587  diff  2 1\n",
      "Index  1588  diff  128 1\n",
      "Index  1589  diff  400 10\n",
      "Index  1591  diff  105 109\n",
      "Index  1592  diff  109 169\n",
      "Index  1596  diff  119 185\n",
      "Index  1597  diff  3980 2080\n",
      "Index  1598  diff  18 218\n",
      "Index  1602  diff  9057 57\n",
      "Index  1612  diff  135 136\n",
      "Index  1613  diff  56 66\n",
      "Index  1629  diff  2091 2291\n",
      "Index  1631  diff  27 34\n",
      "Index  1632  diff  31 73\n",
      "Index  1633  diff  106 0\n",
      "Index  1634  diff  4004 0\n",
      "Index  1636  diff  979 929\n",
      "Index  1637  diff  923 927\n",
      "Index  1643  diff  36 6\n",
      "Index  1645  diff  4 0\n",
      "Index  1648  diff  1031 31\n",
      "Index   diff  10 0\n",
      "Index  1907  diff  887 287\n",
      "Index  1918  diff  4502 4500\n",
      "Index  1920  diff  7000 7008\n",
      "Index  1921  diff  2910 2918\n",
      "Index  1923  diff  0 88\n",
      "Index  1924  diff  1305 1308\n",
      "Index  1925  diff  2782 2780\n",
      "Index  1926  diff  5825 5820\n",
      "Index  1927  diff  2970 2918\n",
      "Index  1931  diff  22 27\n",
      "Index  1933  diff  83 87\n",
      "Index  1937  diff  785 735\n",
      "Index  1942  diff  476 976\n",
      "Index  1943  diff  8 98\n",
      "Index  1944  diff  442 443\n",
      "Index  1954  diff  0 8\n",
      "Index  1959  diff  275 878\n",
      "Index  1961  diff  57 882\n",
      "Index  1962  diff  540 840\n",
      "Index  1963  diff  10 18\n",
      "Index  1964  diff  110 8800\n",
      "Index  1970  diff  8158 158\n",
      "Index  1972  diff  76 70\n",
      "Index  1973  diff  73 873\n",
      "Index  1976  diff  53 803\n",
      "Index  1977  diff  17 817\n",
      "Index  1978  diff  75 15\n",
      "Index  1979  diff  1000 8800\n",
      "Index  1985  diff  165 5165\n",
      "Index  1986  diff  357 254\n",
      "Index  1989  diff  1360 1369\n",
      "Index  1990  diff  62 68\n",
      "Index  1993  diff  28 88\n",
      "Index  2000  diff  667 664\n",
      "Index  2001  diff  1372 1272\n",
      "Index  2006  diff  7 15\n",
      "Index  2015  diff  418 18\n",
      "Index  2017  diff  534 554\n",
      "Index  2021  diff  6004 4\n",
      "Index  2028  diff  3 0\n",
      "Index  2032  diff  418 118\n",
      "Index  2039  diff  12 0\n",
      "Index  2040  diff  25 5\n",
      "Index  2042  diff  190 194\n",
      "Index  2049  diff  2474 2074\n",
      "Index  2050  diff  27 3\n",
      "Index  2051  diff  5658 50\n",
      "Index  2052  diff  500 5500\n",
      "Index  2053  diff  707 50\n",
      "Index  2054 2218  diff  120 126\n",
      "Index  2222  diff  700 790\n",
      "Index  2232  diff  179 79\n",
      "Index  2233  diff  51 34\n",
      "Index  2237  diff  339 338\n",
      "Index  2240  diff  327 322\n",
      "Index  2243  diff  55 53\n",
      "Index  2244  diff  2378 7378\n",
      "Index  2245  diff  150 159\n",
      "Index  2247  diff  228 238\n",
      "Index  2249  diff  0 6\n",
      "Index  2271  diff  1571 1577\n",
      "Index  2277  diff  1113 110\n",
      "Index  2278  diff  1113 112\n",
      "Index  2279  diff  131 1\n",
      "Index  2288  diff  700 830\n",
      "Index  2289  diff  962 462\n",
      "Index  2310  diff  12 11\n",
      "Index  2335  diff  1020 60\n",
      "Index  2336  diff  5220 770\n",
      "Index  2338  diff  3740 4740\n",
      "Index  2339  diff  10 0\n",
      "Index  2342  diff  7780 310\n",
      "Index  2343  diff  281 380\n",
      "Index  2344  diff  5 0\n",
      "Index  2346  diff  1014 0\n",
      "Index  2347  diff  703 0\n",
      "Index  2348  diff  7000 0\n",
      "Index  2352  diff  15 5\n",
      "Index  2355  diff  42 12\n",
      "Index  2363  diff  3 8\n",
      "Index  2375  diff  593 599\n",
      "Index  2376  diff  1250 1252\n",
      "Index  2378  diff  769 169\n",
      "Index  2394  diff  210 880\n",
      "Index  2400  diff  2 8\n",
      "Index  2410  diff  5 0\n",
      "Index  2412  diff  24 54\n",
      "Index  2414  diff  5 0\n",
      "Index  2434  diff  15 13\n",
      "Index  2441  diff  34 54\n",
      "Index  2449  diff  82 52\n",
      "Index  2452  diff  1044 1041\n",
      "Index  2453  diff  360 350\n",
      "Index  2454  diff  905 885\n",
      "Index  2455  diff  27 87\n",
      "Index  2459  diff  3 83\n",
      "Index  2463  diff  0 80\n",
      "Index  2464  diff  52 82\n",
      "Index  2466  diff  885 895\n",
      "Index "
     ]
    }
   ],
   "source": [
    "for index,x in enumerate(submision_csv['Expected'].to_list()):\n",
    "    if x != best[index]:\n",
    "        print(\"Index \", index,\" diff \",x,best[index])"
   ]
  },
  {
   "cell_type": "code",
   "execution_count": 141,
   "metadata": {},
   "outputs": [],
   "source": [
    "torch.save(network.state_dict(),\"./last_model.pth\")"
   ]
  },
  {
   "cell_type": "code",
   "execution_count": null,
   "metadata": {},
   "outputs": [],
   "source": []
  }
 ],
 "metadata": {
  "kernelspec": {
   "display_name": "Python 3",
   "language": "python",
   "name": "python3"
  },
  "language_info": {
   "codemirror_mode": {
    "name": "ipython",
    "version": 3
   },
   "file_extension": ".py",
   "mimetype": "text/x-python",
   "name": "python",
   "nbconvert_exporter": "python",
   "pygments_lexer": "ipython3",
   "version": "3.7.4"
  }
 },
 "nbformat": 4,
 "nbformat_minor": 4
}
